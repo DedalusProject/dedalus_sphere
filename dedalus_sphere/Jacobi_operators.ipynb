{
 "cells": [
  {
   "cell_type": "code",
   "execution_count": 1,
   "metadata": {},
   "outputs": [],
   "source": [
    "import numpy             as np\n",
    "from new_jacobi import JacobiOperator, LaguerreOperator, HermiteOperator"
   ]
  },
  {
   "cell_type": "code",
   "execution_count": 2,
   "metadata": {},
   "outputs": [],
   "source": [
    "A = JacobiOperator('A')\n",
    "B = JacobiOperator('B')\n",
    "C = JacobiOperator('C')\n",
    "D = JacobiOperator('D')"
   ]
  },
  {
   "cell_type": "code",
   "execution_count": 3,
   "metadata": {},
   "outputs": [
    {
     "name": "stdout",
     "output_type": "stream",
     "text": [
      "[[0.  1.5 0.  0.  0.  0. ]\n",
      " [0.  0.  2.  0.  0.  0. ]\n",
      " [0.  0.  0.  2.5 0.  0. ]\n",
      " [0.  0.  0.  0.  3.  0. ]\n",
      " [0.  0.  0.  0.  0.  3.5]]\n",
      "\n",
      "[[ 0  0  0  0  0  0]\n",
      " [ 2  0  0  0  0  0]\n",
      " [ 0  4  0  0  0  0]\n",
      " [ 0  0  6  0  0  0]\n",
      " [ 0  0  0  8  0  0]\n",
      " [ 0  0  0  0 10  0]\n",
      " [ 0  0  0  0  0 12]]\n",
      "\n",
      "[[ 1.  0.  0.  0.  0.  0.]\n",
      " [ 0.  4.  0.  0.  0.  0.]\n",
      " [ 0.  0.  9.  0.  0.  0.]\n",
      " [ 0.  0.  0. 16.  0.  0.]\n",
      " [ 0.  0.  0.  0. 25.  0.]\n",
      " [ 0.  0.  0.  0.  0. 36.]]\n",
      "\n"
     ]
    }
   ],
   "source": [
    "nab = (5,1/2,1/2)\n",
    "\n",
    "def show(X,*args): \n",
    "    print(X(*args))\n",
    "    print()\n",
    "    \n",
    "show(D(+1),*nab)\n",
    "show(D(-1),*nab)\n",
    "show(D(+1) @ D(-1),*nab)"
   ]
  },
  {
   "cell_type": "markdown",
   "metadata": {},
   "source": [
    " "
   ]
  },
  {
   "cell_type": "code",
   "execution_count": 4,
   "metadata": {},
   "outputs": [
    {
     "name": "stdout",
     "output_type": "stream",
     "text": [
      "True\n",
      "True\n",
      "True\n",
      "True\n",
      "True\n",
      "True\n",
      "True\n",
      "True\n",
      "True\n",
      "True\n",
      "True\n",
      "True\n",
      "True\n",
      "True\n",
      "True\n",
      "True\n",
      "True\n",
      "True\n",
      "True\n",
      "True\n",
      "True\n",
      "True\n",
      "True\n",
      "True\n",
      "True\n",
      "True\n",
      "True\n",
      "True\n",
      "True\n",
      "True\n",
      "True\n",
      "True\n",
      "True\n",
      "True\n",
      "True\n",
      "True\n",
      "True\n",
      "True\n",
      "True\n",
      "True\n",
      "True\n"
     ]
    }
   ],
   "source": [
    "nab = (5,4,3/2)\n",
    "\n",
    "def norm(X,eps=1e-10): \n",
    "    print(np.max(np.abs(X(*nab))) < eps)\n",
    "\n",
    "# X * Y = X @ Y - Y @ X\n",
    "M = D(+1) * D(-1)\n",
    "S = C(+1) * C(-1)\n",
    "\n",
    "norm( M * S )\n",
    "\n",
    "for p in (-1,1):\n",
    "    \n",
    "    norm( M * D(p) - 2*p*D(p) )\n",
    "    norm( M * C(p)            )\n",
    "    norm( M * A(p) -   p*A(p) )\n",
    "    norm( M * B(p) -   p*B(p) )\n",
    "    \n",
    "    norm( S * D(p)            )\n",
    "    norm( S * C(p) - 2*p*C(p) )\n",
    "    norm( S * A(p) -   p*A(p) )\n",
    "    norm( S * B(p) +   p*B(p) )\n",
    "    \n",
    "    norm( D(p) * C(+p) )\n",
    "    norm( D(p) * C(-p) )\n",
    "    \n",
    "    norm( A(p) * D(+p)           )\n",
    "    norm( A(p) * D(-p) + p*B(-p) )\n",
    "    norm( A(p) * C(+p)           )\n",
    "    norm( A(p) * C(-p) + p*B(+p) )\n",
    "    \n",
    "    norm( B(p) * D(+p)           )\n",
    "    norm( B(p) * D(-p) - p*A(-p) )\n",
    "    norm( B(p) * C(+p) + p*A(+p) )\n",
    "    norm( B(p) * C(-p)           )\n",
    "    \n",
    "    norm( A(p) * B(+p) )\n",
    "    norm( A(p) * B(-p) )"
   ]
  },
  {
   "cell_type": "code",
   "execution_count": 5,
   "metadata": {},
   "outputs": [
    {
     "name": "stdout",
     "output_type": "stream",
     "text": [
      "[[1. 0. 0. 0. 0. 0.]\n",
      " [0. 1. 0. 0. 0. 0.]\n",
      " [0. 0. 1. 0. 0. 0.]\n",
      " [0. 0. 0. 1. 0. 0.]\n",
      " [0. 0. 0. 0. 1. 0.]\n",
      " [0. 0. 0. 0. 0. 1.]\n",
      " [0. 0. 0. 0. 0. 0.]]\n",
      "\n",
      "[[0.         0.375      0.         0.         0.         0.        ]\n",
      " [0.66666667 0.         0.41666667 0.         0.         0.        ]\n",
      " [0.         0.6        0.         0.4375     0.         0.        ]\n",
      " [0.         0.         0.57142857 0.         0.45       0.        ]\n",
      " [0.         0.         0.         0.55555556 0.         0.45833333]\n",
      " [0.         0.         0.         0.         0.54545455 0.        ]\n",
      " [0.         0.         0.         0.         0.         0.53846154]]\n",
      "\n"
     ]
    }
   ],
   "source": [
    "nab = (5,1/2,1/2)\n",
    "\n",
    "I = (B(-1) @ B(+1) + A(-1) @ A(+1))/2\n",
    "J = (B(-1) @ B(+1) - A(-1) @ A(+1))/2\n",
    "\n",
    "show(I,*nab)\n",
    "show(J,*nab)"
   ]
  },
  {
   "cell_type": "code",
   "execution_count": 6,
   "metadata": {},
   "outputs": [],
   "source": [
    "A = LaguerreOperator(\"A\")\n",
    "D = LaguerreOperator(\"D\")\n",
    "C = lambda p: D(p) - p*A(p)"
   ]
  },
  {
   "cell_type": "code",
   "execution_count": 7,
   "metadata": {},
   "outputs": [
    {
     "name": "stdout",
     "output_type": "stream",
     "text": [
      "[[1. 0. 0. 0. 0. 0.]\n",
      " [0. 1. 0. 0. 0. 0.]\n",
      " [0. 0. 1. 0. 0. 0.]\n",
      " [0. 0. 0. 1. 0. 0.]\n",
      " [0. 0. 0. 0. 1. 0.]\n",
      " [0. 0. 0. 0. 0. 1.]]\n",
      "\n",
      "[[1. 0. 0. 0. 0. 0.]\n",
      " [0. 1. 0. 0. 0. 0.]\n",
      " [0. 0. 1. 0. 0. 0.]\n",
      " [0. 0. 0. 1. 0. 0.]\n",
      " [0. 0. 0. 0. 1. 0.]\n",
      " [0. 0. 0. 0. 0. 1.]\n",
      " [0. 0. 0. 0. 0. 0.]]\n",
      "\n",
      "[[1. 0. 0. 0. 0. 0.]\n",
      " [0. 1. 0. 0. 0. 0.]\n",
      " [0. 0. 1. 0. 0. 0.]\n",
      " [0. 0. 0. 1. 0. 0.]\n",
      " [0. 0. 0. 0. 1. 0.]\n",
      " [0. 0. 0. 0. 0. 1.]]\n",
      "\n",
      "[[-1.  0.  0.  0.  0.  0.]\n",
      " [ 0. -1.  0.  0.  0.  0.]\n",
      " [ 0.  0. -1.  0.  0.  0.]\n",
      " [ 0.  0.  0. -1.  0.  0.]\n",
      " [ 0.  0.  0.  0. -1.  0.]\n",
      " [ 0.  0.  0.  0.  0. -1.]\n",
      " [ 0.  0.  0.  0.  0.  0.]]\n",
      "\n",
      "[[1. 0. 0. 0. 0. 0.]\n",
      " [0. 1. 0. 0. 0. 0.]\n",
      " [0. 0. 1. 0. 0. 0.]\n",
      " [0. 0. 0. 1. 0. 0.]\n",
      " [0. 0. 0. 0. 1. 0.]\n",
      " [0. 0. 0. 0. 0. 1.]\n",
      " [0. 0. 0. 0. 0. 0.]]\n",
      "\n",
      "[[1. 0. 0. 0. 0. 0.]\n",
      " [0. 1. 0. 0. 0. 0.]\n",
      " [0. 0. 1. 0. 0. 0.]\n",
      " [0. 0. 0. 1. 0. 0.]\n",
      " [0. 0. 0. 0. 1. 0.]\n",
      " [0. 0. 0. 0. 0. 1.]\n",
      " [0. 0. 0. 0. 0. 0.]]\n",
      "\n",
      "[[0. 0. 0. 0. 0. 0.]\n",
      " [0. 0. 0. 0. 0. 0.]\n",
      " [0. 0. 0. 0. 0. 0.]\n",
      " [0. 0. 0. 0. 0. 0.]\n",
      " [0. 0. 0. 0. 0. 0.]]\n",
      "\n",
      "[[0 0 0 0 0 0]\n",
      " [0 0 0 0 0 0]\n",
      " [0 0 0 0 0 0]\n",
      " [0 0 0 0 0 0]\n",
      " [0 0 0 0 0 0]\n",
      " [0 0 0 0 0 0]\n",
      " [0 0 0 0 0 0]\n",
      " [0 0 0 0 0 0]]\n",
      "\n",
      "[[0. 0. 0. 0. 0. 0.]\n",
      " [0. 0. 0. 0. 0. 0.]\n",
      " [0. 0. 0. 0. 0. 0.]\n",
      " [0. 0. 0. 0. 0. 0.]\n",
      " [0. 0. 0. 0. 0. 0.]\n",
      " [0. 0. 0. 0. 0. 0.]]\n",
      "\n",
      "[[0 0 0 0 0 0]\n",
      " [0 0 0 0 0 0]\n",
      " [0 0 0 0 0 0]\n",
      " [0 0 0 0 0 0]\n",
      " [0 0 0 0 0 0]\n",
      " [0 0 0 0 0 0]\n",
      " [0 0 0 0 0 0]\n",
      " [0 0 0 0 0 0]]\n",
      "\n",
      "[[0. 0. 0. 0. 0. 0.]\n",
      " [0. 0. 0. 0. 0. 0.]\n",
      " [0. 0. 0. 0. 0. 0.]\n",
      " [0. 0. 0. 0. 0. 0.]\n",
      " [0. 0. 0. 0. 0. 0.]]\n",
      "\n",
      "[[0. 0. 0. 0. 0. 0.]\n",
      " [0. 0. 0. 0. 0. 0.]\n",
      " [0. 0. 0. 0. 0. 0.]\n",
      " [0. 0. 0. 0. 0. 0.]\n",
      " [0. 0. 0. 0. 0. 0.]\n",
      " [0. 0. 0. 0. 0. 0.]\n",
      " [0. 0. 0. 0. 0. 0.]]\n",
      "\n",
      "[[0 0 0 0 0 0]\n",
      " [0 0 0 0 0 0]\n",
      " [0 0 0 0 0 0]\n",
      " [0 0 0 0 0 0]\n",
      " [0 0 0 0 0 0]\n",
      " [0 0 0 0 0 0]\n",
      " [0 0 0 0 0 0]\n",
      " [0 0 0 0 0 0]]\n",
      "\n",
      "[[0. 0. 0. 0. 0. 0.]\n",
      " [0. 0. 0. 0. 0. 0.]\n",
      " [0. 0. 0. 0. 0. 0.]\n",
      " [0. 0. 0. 0. 0. 0.]\n",
      " [0. 0. 0. 0. 0. 0.]\n",
      " [0. 0. 0. 0. 0. 0.]]\n",
      "\n"
     ]
    }
   ],
   "source": [
    "na = (5,3)\n",
    "\n",
    "show(D(-1)*D(+1),*na)\n",
    "\n",
    "show(D(-1)*A(+1),*na)\n",
    "show(D(+1)*A(-1),*na)\n",
    "\n",
    "show(C(-1)*C(+1),*na)\n",
    "\n",
    "show(C(-1)*A(+1),*na)\n",
    "show(C(+1)*A(-1),*na)\n",
    "\n",
    "show(D(+1)*A(+1),*na)\n",
    "show(D(-1)*A(-1),*na)\n",
    "\n",
    "show(C(-1)*D(+1),*na)\n",
    "show(C(-1)*D(-1),*na)\n",
    "show(C(+1)*D(+1),*na)\n",
    "show(C(+1)*D(-1),*na)\n",
    "show(C(-1)*A(-1),*na)\n",
    "show(C(+1)*A(+1),*na)"
   ]
  },
  {
   "cell_type": "markdown",
   "metadata": {},
   "source": [
    " "
   ]
  },
  {
   "cell_type": "code",
   "execution_count": 48,
   "metadata": {},
   "outputs": [],
   "source": [
    "A = HermiteOperator()"
   ]
  },
  {
   "cell_type": "code",
   "execution_count": 49,
   "metadata": {},
   "outputs": [
    {
     "name": "stdout",
     "output_type": "stream",
     "text": [
      "[[1. 0. 0. 0. 0. 0.]\n",
      " [0. 1. 0. 0. 0. 0.]\n",
      " [0. 0. 1. 0. 0. 0.]\n",
      " [0. 0. 0. 1. 0. 0.]\n",
      " [0. 0. 0. 0. 1. 0.]\n",
      " [0. 0. 0. 0. 0. 1.]]\n"
     ]
    }
   ],
   "source": [
    "n = 5\n",
    "I = A(+1)*A(-1)/2\n",
    "print(I(n))"
   ]
  },
  {
   "cell_type": "code",
   "execution_count": 62,
   "metadata": {},
   "outputs": [
    {
     "name": "stdout",
     "output_type": "stream",
     "text": [
      "[[0.  1.  0.  0.  0.  0. ]\n",
      " [0.5 0.  2.  0.  0.  0. ]\n",
      " [0.  0.5 0.  3.  0.  0. ]\n",
      " [0.  0.  0.5 0.  4.  0. ]\n",
      " [0.  0.  0.  0.5 0.  5. ]\n",
      " [0.  0.  0.  0.  0.5 0. ]\n",
      " [0.  0.  0.  0.  0.  0.5]]\n"
     ]
    }
   ],
   "source": [
    "X = (A(+1) + A(-1))/2\n",
    "print(X(n))"
   ]
  },
  {
   "cell_type": "code",
   "execution_count": null,
   "metadata": {},
   "outputs": [],
   "source": []
  }
 ],
 "metadata": {
  "kernelspec": {
   "display_name": "Python 3",
   "language": "python",
   "name": "python3"
  },
  "language_info": {
   "codemirror_mode": {
    "name": "ipython",
    "version": 3
   },
   "file_extension": ".py",
   "mimetype": "text/x-python",
   "name": "python",
   "nbconvert_exporter": "python",
   "pygments_lexer": "ipython3",
   "version": "3.7.7"
  }
 },
 "nbformat": 4,
 "nbformat_minor": 4
}

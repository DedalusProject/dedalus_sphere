{
 "cells": [
  {
   "cell_type": "code",
   "execution_count": 1,
   "metadata": {},
   "outputs": [],
   "source": [
    "import numpy             as np\n",
    "from new_jacobi import JacobiOperator"
   ]
  },
  {
   "cell_type": "code",
   "execution_count": 2,
   "metadata": {},
   "outputs": [],
   "source": [
    "A = JacobiOperator('A')\n",
    "B = JacobiOperator('B')\n",
    "C = JacobiOperator('C')\n",
    "D = JacobiOperator('D')"
   ]
  },
  {
   "cell_type": "code",
   "execution_count": 3,
   "metadata": {},
   "outputs": [
    {
     "name": "stdout",
     "output_type": "stream",
     "text": [
      "[[0.  1.5 0.  0.  0.  0. ]\n",
      " [0.  0.  2.  0.  0.  0. ]\n",
      " [0.  0.  0.  2.5 0.  0. ]\n",
      " [0.  0.  0.  0.  3.  0. ]\n",
      " [0.  0.  0.  0.  0.  3.5]]\n",
      "\n",
      "[[ 0  0  0  0  0  0]\n",
      " [ 2  0  0  0  0  0]\n",
      " [ 0  4  0  0  0  0]\n",
      " [ 0  0  6  0  0  0]\n",
      " [ 0  0  0  8  0  0]\n",
      " [ 0  0  0  0 10  0]\n",
      " [ 0  0  0  0  0 12]]\n",
      "\n",
      "[[ 1.  0.  0.  0.  0.  0.]\n",
      " [ 0.  4.  0.  0.  0.  0.]\n",
      " [ 0.  0.  9.  0.  0.  0.]\n",
      " [ 0.  0.  0. 16.  0.  0.]\n",
      " [ 0.  0.  0.  0. 25.  0.]\n",
      " [ 0.  0.  0.  0.  0. 36.]]\n",
      "\n"
     ]
    }
   ],
   "source": [
    "nab = (5,1/2,1/2)\n",
    "\n",
    "def show(X,*args): \n",
    "    print(X(*args).todense())\n",
    "    print()\n",
    "    \n",
    "show(D(+1),*nab)\n",
    "show(D(-1),*nab)\n",
    "show(D(+1) @ D(-1),*nab)"
   ]
  },
  {
   "cell_type": "code",
   "execution_count": null,
   "metadata": {},
   "outputs": [],
   "source": []
  },
  {
   "cell_type": "code",
   "execution_count": 4,
   "metadata": {},
   "outputs": [
    {
     "name": "stdout",
     "output_type": "stream",
     "text": [
      "True\n",
      "True\n",
      "True\n",
      "True\n",
      "True\n",
      "True\n",
      "True\n",
      "True\n",
      "True\n",
      "True\n",
      "True\n",
      "True\n",
      "True\n",
      "True\n",
      "True\n",
      "True\n",
      "True\n",
      "True\n",
      "True\n",
      "True\n",
      "True\n",
      "True\n",
      "True\n",
      "True\n",
      "True\n",
      "True\n",
      "True\n",
      "True\n",
      "True\n",
      "True\n",
      "True\n",
      "True\n",
      "True\n",
      "True\n",
      "True\n",
      "True\n",
      "True\n",
      "True\n",
      "True\n",
      "True\n",
      "True\n"
     ]
    }
   ],
   "source": [
    "nab = (50,4,3/2)\n",
    "\n",
    "def norm(X,*args): \n",
    "    e = np.max(np.abs(X(*args)))\n",
    "    print(e < 1e-12)\n",
    "\n",
    "# X * Y = X @ Y - Y @ X\n",
    "M = D(+1) * D(-1)\n",
    "S = C(+1) * C(-1)\n",
    "\n",
    "norm( M * S ,*nab)\n",
    "\n",
    "for p in (-1,1):\n",
    "    \n",
    "    norm( M * D(p) - 2*p*D(p) ,*nab)\n",
    "    norm( M * C(p)            ,*nab)\n",
    "    norm( M * A(p) -   p*A(p) ,*nab)\n",
    "    norm( M * B(p) -   p*B(p) ,*nab)\n",
    "    \n",
    "    norm( S * D(p)            ,*nab)\n",
    "    norm( S * C(p) - 2*p*C(p) ,*nab)\n",
    "    norm( S * A(p) -   p*A(p) ,*nab)\n",
    "    norm( S * B(p) +   p*B(p) ,*nab)\n",
    "    \n",
    "    norm( D(p) * C(+p) ,*nab)\n",
    "    norm( D(p) * C(-p) ,*nab)\n",
    "    \n",
    "    norm( A(p) * D(+p)           ,*nab)\n",
    "    norm( A(p) * D(-p) + p*B(-p) ,*nab)\n",
    "    norm( A(p) * C(+p)           ,*nab)\n",
    "    norm( A(p) * C(-p) + p*B(+p) ,*nab)\n",
    "    \n",
    "    norm( B(p) * D(+p)           ,*nab)\n",
    "    norm( B(p) * D(-p) - p*A(-p) ,*nab)\n",
    "    norm( B(p) * C(+p) + p*A(+p) ,*nab)\n",
    "    norm( B(p) * C(-p)           ,*nab)\n",
    "    \n",
    "    norm( A(p) * B(+p) ,*nab)\n",
    "    norm( A(p) * B(-p) ,*nab)"
   ]
  },
  {
   "cell_type": "code",
   "execution_count": null,
   "metadata": {},
   "outputs": [],
   "source": []
  },
  {
   "cell_type": "code",
   "execution_count": 5,
   "metadata": {},
   "outputs": [
    {
     "name": "stdout",
     "output_type": "stream",
     "text": [
      "[[1. 0. 0. 0. 0. 0.]\n",
      " [0. 1. 0. 0. 0. 0.]\n",
      " [0. 0. 1. 0. 0. 0.]\n",
      " [0. 0. 0. 1. 0. 0.]\n",
      " [0. 0. 0. 0. 1. 0.]\n",
      " [0. 0. 0. 0. 0. 1.]\n",
      " [0. 0. 0. 0. 0. 0.]]\n",
      "\n",
      "[[0.         0.375      0.         0.         0.         0.        ]\n",
      " [0.66666667 0.         0.41666667 0.         0.         0.        ]\n",
      " [0.         0.6        0.         0.4375     0.         0.        ]\n",
      " [0.         0.         0.57142857 0.         0.45       0.        ]\n",
      " [0.         0.         0.         0.55555556 0.         0.45833333]\n",
      " [0.         0.         0.         0.         0.54545455 0.        ]\n",
      " [0.         0.         0.         0.         0.         0.53846154]]\n",
      "\n"
     ]
    }
   ],
   "source": [
    "nab = (5,1/2,1/2)\n",
    "\n",
    "I = (B(-1) @ B(+1) + A(-1) @ A(+1))/2\n",
    "J = (B(-1) @ B(+1) - A(-1) @ A(+1))/2\n",
    "\n",
    "show(I,*nab)\n",
    "show(J,*nab)"
   ]
  },
  {
   "cell_type": "code",
   "execution_count": null,
   "metadata": {},
   "outputs": [],
   "source": []
  },
  {
   "cell_type": "code",
   "execution_count": null,
   "metadata": {},
   "outputs": [],
   "source": []
  }
 ],
 "metadata": {
  "kernelspec": {
   "display_name": "Python 3",
   "language": "python",
   "name": "python3"
  },
  "language_info": {
   "codemirror_mode": {
    "name": "ipython",
    "version": 3
   },
   "file_extension": ".py",
   "mimetype": "text/x-python",
   "name": "python",
   "nbconvert_exporter": "python",
   "pygments_lexer": "ipython3",
   "version": "3.7.7"
  }
 },
 "nbformat": 4,
 "nbformat_minor": 4
}

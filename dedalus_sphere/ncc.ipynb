{
 "cells": [
  {
   "cell_type": "code",
   "execution_count": null,
   "metadata": {},
   "outputs": [],
   "source": [
    "import numpy as np\n",
    "from dedalus_sphere.intertwiner import *"
   ]
  },
  {
   "cell_type": "code",
   "execution_count": null,
   "metadata": {},
   "outputs": [],
   "source": [
    "ell = 2\n",
    "\n",
    "G = NCCCoupling(ell,'VS',use_selection_rule=False)\n",
    "\n",
    "for s in G._spins(1):\n",
    "    abc = (1,(),s)\n",
    "    print(abc,G.selection_rule(*abc))\n",
    "    print(G(*abc))\n",
    "    print(30*'-')"
   ]
  },
  {
   "cell_type": "code",
   "execution_count": null,
   "metadata": {},
   "outputs": [],
   "source": []
  },
  {
   "cell_type": "code",
   "execution_count": null,
   "metadata": {},
   "outputs": [],
   "source": [
    "G = NCCCoupling(ell,'V@V',use_selection_rule=False)\n",
    "    \n",
    "for s in G._spins(1):\n",
    "    abc = (1,s,())\n",
    "    print(abc,G.selection_rule(*abc))\n",
    "    print(G(*abc))\n",
    "    print(30*'-')"
   ]
  },
  {
   "cell_type": "code",
   "execution_count": null,
   "metadata": {},
   "outputs": [],
   "source": []
  },
  {
   "cell_type": "code",
   "execution_count": null,
   "metadata": {},
   "outputs": [],
   "source": [
    "G = NCCCoupling(ell,'VxV',use_selection_rule=False)\n",
    "\n",
    "for s,t in G._spins(2):\n",
    "    abc = (1,s,t)\n",
    "    print(abc,G.selection_rule(*abc))\n",
    "    print(G(*abc))        \n",
    "    print(30*'-')"
   ]
  },
  {
   "cell_type": "code",
   "execution_count": null,
   "metadata": {},
   "outputs": [],
   "source": []
  },
  {
   "cell_type": "code",
   "execution_count": null,
   "metadata": {},
   "outputs": [],
   "source": [
    "G = NCCCoupling(ell,'T@V',use_selection_rule=False)\n",
    "\n",
    "a = (-1,1)\n",
    "        \n",
    "for s,t in G._spins(2):\n",
    "    abc = (a,s,t)\n",
    "    print(abc,G.selection_rule(*abc))\n",
    "    print(G(*abc))        \n",
    "    print(30*'-')"
   ]
  },
  {
   "cell_type": "code",
   "execution_count": null,
   "metadata": {},
   "outputs": [],
   "source": []
  },
  {
   "cell_type": "code",
   "execution_count": null,
   "metadata": {},
   "outputs": [],
   "source": [
    "G = NCCCoupling(ell,'V@T',use_selection_rule=False)\n",
    "        \n",
    "for s,t,u in G._spins(3):\n",
    "    abc = (1,(s,t),u)\n",
    "    print(abc,G.selection_rule(*abc))\n",
    "    print(G(*abc))        \n",
    "    print(30*'-')"
   ]
  },
  {
   "cell_type": "code",
   "execution_count": null,
   "metadata": {},
   "outputs": [],
   "source": []
  },
  {
   "cell_type": "code",
   "execution_count": null,
   "metadata": {},
   "outputs": [],
   "source": [
    "G = NCCCoupling(ell,'TS',use_selection_rule=False)\n",
    "\n",
    "a = (-1,1)\n",
    "\n",
    "for s,t in G._spins(2):\n",
    "    abc = (a,(),(s,t))\n",
    "    print(abc,G.selection_rule(*abc))\n",
    "    print(G(*abc))        \n",
    "    print(30*'-')"
   ]
  },
  {
   "cell_type": "code",
   "execution_count": null,
   "metadata": {},
   "outputs": [],
   "source": []
  },
  {
   "cell_type": "code",
   "execution_count": null,
   "metadata": {},
   "outputs": [],
   "source": [
    "G = NCCCoupling(ell,'VV',use_selection_rule=False)\n",
    "        \n",
    "for s,t,u in G._spins(3):\n",
    "    abc = (1,s,(t,u))\n",
    "    print(abc,G.selection_rule(*abc))\n",
    "    print(G(*abc))        \n",
    "    print(30*'-')"
   ]
  },
  {
   "cell_type": "code",
   "execution_count": null,
   "metadata": {},
   "outputs": [],
   "source": []
  },
  {
   "cell_type": "code",
   "execution_count": null,
   "metadata": {},
   "outputs": [],
   "source": [
    "G = NCCCoupling(ell,'T@T',use_selection_rule=False)\n",
    "\n",
    "a = (1,1)\n",
    "\n",
    "for r,s,t,u in G._spins(4):\n",
    "    abc = (a,(r,s),(t,u))\n",
    "    print(abc,G.selection_rule(*abc))\n",
    "    print(G(*abc))        \n",
    "    print(30*'-')"
   ]
  },
  {
   "cell_type": "code",
   "execution_count": null,
   "metadata": {},
   "outputs": [],
   "source": []
  }
 ],
 "metadata": {
  "kernelspec": {
   "display_name": "Python 3",
   "language": "python",
   "name": "python3"
  },
  "language_info": {
   "codemirror_mode": {
    "name": "ipython",
    "version": 3
   },
   "file_extension": ".py",
   "mimetype": "text/x-python",
   "name": "python",
   "nbconvert_exporter": "python",
   "pygments_lexer": "ipython3",
   "version": "3.8.2"
  }
 },
 "nbformat": 4,
 "nbformat_minor": 4
}

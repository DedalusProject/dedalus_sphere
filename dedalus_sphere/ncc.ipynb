{
 "cells": [
  {
   "cell_type": "code",
   "execution_count": null,
   "metadata": {},
   "outputs": [],
   "source": [
    "import numpy as np\n",
    "from dedalus_sphere.intertwiner import *"
   ]
  },
  {
   "cell_type": "code",
   "execution_count": null,
   "metadata": {},
   "outputs": [],
   "source": [
    "ell = 2\n",
    "T = LinearTensorOperator(ell,'Transpose')\n",
    "\n",
    "for a,b,c,d in indices(4):\n",
    "    abcd = ((a,b),(c,d))\n",
    "    \n",
    "    print(abcd)\n",
    "    \n",
    "    print(T(*abcd))\n",
    "    print()"
   ]
  },
  {
   "cell_type": "code",
   "execution_count": null,
   "metadata": {},
   "outputs": [],
   "source": []
  },
  {
   "cell_type": "code",
   "execution_count": null,
   "metadata": {},
   "outputs": [],
   "source": [
    "for s in indices(2):\n",
    "    print(s)"
   ]
  },
  {
   "cell_type": "code",
   "execution_count": null,
   "metadata": {},
   "outputs": [],
   "source": [
    "ell = 3\n",
    "Tr   = LinearTensorOperator(ell,'Trace')\n",
    "CoTr = LinearTensorOperator(ell,'Cotrace')\n",
    "\n",
    "for a,b in indices(2):\n",
    "    print((a,b))\n",
    "    print(CoTr((),(a,b)))\n",
    "    print(Tr((a,b),()))"
   ]
  },
  {
   "cell_type": "code",
   "execution_count": null,
   "metadata": {},
   "outputs": [],
   "source": [
    "# this should be 3\n",
    "print(sum(Tr((a,b),())**2 for a,b in indices(2)))"
   ]
  },
  {
   "cell_type": "code",
   "execution_count": null,
   "metadata": {},
   "outputs": [],
   "source": []
  },
  {
   "cell_type": "code",
   "execution_count": null,
   "metadata": {},
   "outputs": [],
   "source": [
    "ell = 2\n",
    "\n",
    "G = NCCCoupling(ell,'VS')\n",
    "\n",
    "for s in indices(1):\n",
    "    abc = (1,(),s)\n",
    "    print(abc,G.selection_rule(*abc))\n",
    "    print(G(*abc))\n",
    "    print(30*'-')"
   ]
  },
  {
   "cell_type": "code",
   "execution_count": null,
   "metadata": {},
   "outputs": [],
   "source": []
  },
  {
   "cell_type": "code",
   "execution_count": null,
   "metadata": {},
   "outputs": [],
   "source": [
    "G = NCCCoupling(ell,'V@V')\n",
    "    \n",
    "for s in indices(1):\n",
    "    abc = (1,s,())\n",
    "    print(abc,G.selection_rule(*abc))\n",
    "    print(G(*abc))\n",
    "    print(30*'-')"
   ]
  },
  {
   "cell_type": "code",
   "execution_count": null,
   "metadata": {},
   "outputs": [],
   "source": []
  },
  {
   "cell_type": "code",
   "execution_count": null,
   "metadata": {},
   "outputs": [],
   "source": [
    "G = NCCCoupling(ell,'VxV')\n",
    "\n",
    "for s,t in indices(2):\n",
    "    abc = (1,s,t)\n",
    "    print(abc,G.selection_rule(*abc))\n",
    "    print(G(*abc))        \n",
    "    print(30*'-')"
   ]
  },
  {
   "cell_type": "code",
   "execution_count": null,
   "metadata": {},
   "outputs": [],
   "source": []
  },
  {
   "cell_type": "code",
   "execution_count": null,
   "metadata": {},
   "outputs": [],
   "source": [
    "G = NCCCoupling(ell,'T@V')\n",
    "\n",
    "a = (-1,1)\n",
    "        \n",
    "for s,t in indices(2):\n",
    "    abc = (a,s,t)\n",
    "    print(abc,G.selection_rule(*abc))\n",
    "    print(G(*abc))        \n",
    "    print(30*'-')"
   ]
  },
  {
   "cell_type": "code",
   "execution_count": null,
   "metadata": {},
   "outputs": [],
   "source": []
  },
  {
   "cell_type": "code",
   "execution_count": null,
   "metadata": {},
   "outputs": [],
   "source": [
    "G = NCCCoupling(ell,'V@T')\n",
    "\n",
    "G.ell = 0\n",
    "\n",
    "for s,t,u in indices(3):\n",
    "    abc = (1,(s,t),u)\n",
    "    print(abc,G.selection_rule(*abc))\n",
    "    print(G(*abc))        \n",
    "    print(30*'-')"
   ]
  },
  {
   "cell_type": "code",
   "execution_count": null,
   "metadata": {},
   "outputs": [],
   "source": []
  },
  {
   "cell_type": "code",
   "execution_count": null,
   "metadata": {},
   "outputs": [],
   "source": [
    "G = NCCCoupling(ell,'TS')\n",
    "\n",
    "a = (-1,1)\n",
    "\n",
    "for s,t in indices(2):\n",
    "    abc = (a,(),(s,t))\n",
    "    print(abc,G.selection_rule(*abc))\n",
    "    print(G(*abc))        \n",
    "    print(30*'-')"
   ]
  },
  {
   "cell_type": "code",
   "execution_count": null,
   "metadata": {},
   "outputs": [],
   "source": []
  },
  {
   "cell_type": "code",
   "execution_count": null,
   "metadata": {},
   "outputs": [],
   "source": [
    "G = NCCCoupling(ell,'VV')\n",
    "        \n",
    "for s,t,u in indices(3):\n",
    "    abc = (1,s,(t,u))\n",
    "    print(abc,G.selection_rule(*abc))\n",
    "    print(G(*abc))        \n",
    "    print(30*'-')"
   ]
  },
  {
   "cell_type": "code",
   "execution_count": null,
   "metadata": {},
   "outputs": [],
   "source": [
    "ell=3"
   ]
  },
  {
   "cell_type": "code",
   "execution_count": null,
   "metadata": {},
   "outputs": [],
   "source": [
    "G = NCCCoupling(ell,'T@T')\n",
    "\n",
    "a = (1,1)\n",
    "\n",
    "FP = 0\n",
    "TP = 0\n",
    "for r,s,t,u in indices(4):\n",
    "    abc = (a,(r,s),(t,u))\n",
    "    print(abc,G.selection_rule(*abc),G(*abc))\n",
    "    \n",
    "    tp = (abs(G(*abc)) < 1e-9)\n",
    "    fp = tp and G.selection_rule(*abc)\n",
    "    \n",
    "    fn = not (tp or G.selection_rule(*abc))\n",
    "    \n",
    "    FP += fp\n",
    "    TP += tp\n",
    "    \n",
    "    print('False+ ', fp)\n",
    "    print('False- ', fn)\n",
    "    print(30*'-')\n",
    "\n",
    "print(FP,'/',TP)"
   ]
  },
  {
   "cell_type": "code",
   "execution_count": null,
   "metadata": {},
   "outputs": [],
   "source": []
  }
 ],
 "metadata": {
  "kernelspec": {
   "display_name": "Python 3",
   "language": "python",
   "name": "python3"
  },
  "language_info": {
   "codemirror_mode": {
    "name": "ipython",
    "version": 3
   },
   "file_extension": ".py",
   "mimetype": "text/x-python",
   "name": "python",
   "nbconvert_exporter": "python",
   "pygments_lexer": "ipython3",
   "version": "3.8.2"
  }
 },
 "nbformat": 4,
 "nbformat_minor": 4
}

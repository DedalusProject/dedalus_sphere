{
 "cells": [
  {
   "cell_type": "code",
   "execution_count": 1,
   "metadata": {},
   "outputs": [],
   "source": [
    "import numpy as np\n",
    "from dedalus_sphere.intertwiner import *"
   ]
  },
  {
   "cell_type": "code",
   "execution_count": 3,
   "metadata": {},
   "outputs": [
    {
     "name": "stdout",
     "output_type": "stream",
     "text": [
      "(1, (), -1) True\n",
      "0.6546536707079772\n",
      "------------------------------\n",
      "(1, (), 0) False\n",
      "0.0\n",
      "------------------------------\n",
      "(1, (), 1) True\n",
      "0.7559289460184544\n",
      "------------------------------\n"
     ]
    }
   ],
   "source": [
    "ell = 3\n",
    "\n",
    "G = NCCCoupling(ell,'VS',use_selection_rule=False)\n",
    "\n",
    "for s in G._spins(1):\n",
    "    abc = (1,(),s)\n",
    "    print(abc,G.selection_rule(*abc))\n",
    "    print(G(*abc))\n",
    "    print(30*'-')"
   ]
  },
  {
   "cell_type": "code",
   "execution_count": 4,
   "metadata": {},
   "outputs": [
    {
     "name": "stdout",
     "output_type": "stream",
     "text": [
      "(1, -1, ()) True\n",
      "0.6546536707079772\n",
      "------------------------------\n",
      "(1, 0, ()) False\n",
      "0.0\n",
      "------------------------------\n",
      "(1, 1, ()) True\n",
      "0.7559289460184544\n",
      "------------------------------\n"
     ]
    }
   ],
   "source": [
    "G = NCCCoupling(ell,'V@V',use_selection_rule=False)\n",
    "    \n",
    "for s in G._spins(1):\n",
    "    abc = (1,s,())\n",
    "    print(abc,G.selection_rule(*abc))\n",
    "    print(G(*abc))\n",
    "    print(30*'-')"
   ]
  },
  {
   "cell_type": "code",
   "execution_count": 5,
   "metadata": {},
   "outputs": [
    {
     "name": "stdout",
     "output_type": "stream",
     "text": [
      "(1, -1, -1) False\n",
      "0j\n",
      "------------------------------\n",
      "(1, -1, 0) True\n",
      "-0.7559289460184544j\n",
      "------------------------------\n",
      "(1, -1, 1) False\n",
      "0j\n",
      "------------------------------\n",
      "(1, 0, -1) True\n",
      "-0.7559289460184544j\n",
      "------------------------------\n",
      "(1, 0, 0) False\n",
      "0j\n",
      "------------------------------\n",
      "(1, 0, 1) True\n",
      "0.654653670707977j\n",
      "------------------------------\n",
      "(1, 1, -1) False\n",
      "0j\n",
      "------------------------------\n",
      "(1, 1, 0) True\n",
      "0.654653670707977j\n",
      "------------------------------\n",
      "(1, 1, 1) False\n",
      "0j\n",
      "------------------------------\n"
     ]
    }
   ],
   "source": [
    "G = NCCCoupling(ell,'VxV',use_selection_rule=False)\n",
    "\n",
    "for s,t in G._spins(2):\n",
    "    abc = (1,s,t)\n",
    "    print(abc,G.selection_rule(*abc))\n",
    "    print(G(*abc))        \n",
    "    print(30*'-')"
   ]
  },
  {
   "cell_type": "code",
   "execution_count": 6,
   "metadata": {},
   "outputs": [
    {
     "name": "stdout",
     "output_type": "stream",
     "text": [
      "((0, 1), -1, -1) False\n",
      "0.0\n",
      "------------------------------\n",
      "((0, 1), -1, 0) True\n",
      "0.5345224838248487\n",
      "------------------------------\n",
      "((0, 1), -1, 1) False\n",
      "0.0\n",
      "------------------------------\n",
      "((0, 1), 0, -1) True\n",
      "0.5345224838248487\n",
      "------------------------------\n",
      "((0, 1), 0, 0) False\n",
      "0.0\n",
      "------------------------------\n",
      "((0, 1), 0, 1) True\n",
      "-0.4629100498862756\n",
      "------------------------------\n",
      "((0, 1), 1, -1) False\n",
      "0.0\n",
      "------------------------------\n",
      "((0, 1), 1, 0) True\n",
      "-0.4629100498862756\n",
      "------------------------------\n",
      "((0, 1), 1, 1) False\n",
      "0.0\n",
      "------------------------------\n"
     ]
    }
   ],
   "source": [
    "G = NCCCoupling(ell,'T@V',use_selection_rule=False)\n",
    "\n",
    "a = (0,1)\n",
    "        \n",
    "for s,t in G._spins(2):\n",
    "    abc = (a,s,t)\n",
    "    print(abc,G.selection_rule(*abc))\n",
    "    print(G(*abc))        \n",
    "    print(30*'-')"
   ]
  },
  {
   "cell_type": "code",
   "execution_count": null,
   "metadata": {},
   "outputs": [],
   "source": []
  },
  {
   "cell_type": "code",
   "execution_count": null,
   "metadata": {},
   "outputs": [],
   "source": []
  }
 ],
 "metadata": {
  "kernelspec": {
   "display_name": "Python 3",
   "language": "python",
   "name": "python3"
  },
  "language_info": {
   "codemirror_mode": {
    "name": "ipython",
    "version": 3
   },
   "file_extension": ".py",
   "mimetype": "text/x-python",
   "name": "python",
   "nbconvert_exporter": "python",
   "pygments_lexer": "ipython3",
   "version": "3.8.2"
  }
 },
 "nbformat": 4,
 "nbformat_minor": 4
}

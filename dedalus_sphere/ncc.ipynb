{
 "cells": [
  {
   "cell_type": "code",
   "execution_count": 1,
   "metadata": {},
   "outputs": [],
   "source": [
    "import numpy as np\n",
    "from dedalus_sphere.intertwiner import *"
   ]
  },
  {
   "cell_type": "code",
   "execution_count": 2,
   "metadata": {},
   "outputs": [
    {
     "name": "stdout",
     "output_type": "stream",
     "text": [
      "(-1, -1) 0j\n",
      "(-1, 0) -0.816496580927726j\n",
      "(-1, 1) 0j\n",
      "(0, -1) -0.816496580927726j\n",
      "(0, 0) 0j\n",
      "(0, 1) 0.5773502691896258j\n",
      "(1, -1) 0j\n",
      "(1, 0) 0.5773502691896258j\n",
      "(1, 1) 0j\n"
     ]
    }
   ],
   "source": [
    "ell = 3\n",
    "\n",
    "G = NCCCoupling(ell,'VxV')\n",
    "\n",
    "G.ell = 1\n",
    "\n",
    "for i in range(-1,2):\n",
    "    for j in range(-1,2):\n",
    "        print((i,j),G((1,),(i,),(j,)))"
   ]
  },
  {
   "cell_type": "code",
   "execution_count": null,
   "metadata": {},
   "outputs": [],
   "source": []
  }
 ],
 "metadata": {
  "kernelspec": {
   "display_name": "Python 3",
   "language": "python",
   "name": "python3"
  },
  "language_info": {
   "codemirror_mode": {
    "name": "ipython",
    "version": 3
   },
   "file_extension": ".py",
   "mimetype": "text/x-python",
   "name": "python",
   "nbconvert_exporter": "python",
   "pygments_lexer": "ipython3",
   "version": "3.8.2"
  }
 },
 "nbformat": 4,
 "nbformat_minor": 4
}

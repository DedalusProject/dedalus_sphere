{
 "cells": [
  {
   "cell_type": "code",
   "execution_count": null,
   "metadata": {},
   "outputs": [],
   "source": [
    "import numpy as np\n",
    "\n",
    "from spin_operators import *\n",
    "\n",
    "# helper functions numpy arrays\n",
    "\n",
    "def iprint(M):\n",
    "    print(M.astype(int))\n",
    "    \n",
    "def flat(*args): \n",
    "    for a in args:\n",
    "        a.shape = (dim**2,)\n",
    "        iprint(a)\n",
    "        print()\n",
    "    return None\n",
    "\n",
    "def square(*args):\n",
    "    for a in args:\n",
    "        a.shape = (dim,dim)\n",
    "        iprint(a)\n",
    "        print()\n",
    "    return None\n",
    "\n"
   ]
  },
  {
   "cell_type": "code",
   "execution_count": null,
   "metadata": {},
   "outputs": [],
   "source": [
    "spins  = (-1,0,+1)\n",
    "dim    = len(spins)\n",
    "\n",
    "I  = Identity(spins=spins)\n",
    "\n",
    "M  = Metric(spins=spins)\n",
    "\n",
    "T  = Transpose(permutation=(1,0),spins=spins)\n",
    "\n",
    "Tr = Trace(indices=(0,1),spins=spins)\n",
    "\n",
    "P  = lambda kappa: TensorProduct(kappa,spins=spins)"
   ]
  },
  {
   "cell_type": "markdown",
   "metadata": {},
   "source": [
    "Start with a flattened rank-2 array. Apply the transpose operator and look at the square results:"
   ]
  },
  {
   "cell_type": "code",
   "execution_count": null,
   "metadata": {},
   "outputs": [],
   "source": [
    "A = np.arange(dim**2,dtype=float)\n",
    "\n",
    "B = T @ A\n",
    "\n",
    "square(A,B)"
   ]
  },
  {
   "cell_type": "markdown",
   "metadata": {},
   "source": [
    "The rank-2 transpose operator matrix"
   ]
  },
  {
   "cell_type": "code",
   "execution_count": null,
   "metadata": {},
   "outputs": [],
   "source": [
    "iprint(T(2))"
   ]
  },
  {
   "cell_type": "markdown",
   "metadata": {},
   "source": [
    "The trace in spin space is \n",
    "\n",
    "$$\n",
    "\\text{Tr}(A) = A(-1,+1) + A(0,0) + A(+1,-1)\n",
    "$$"
   ]
  },
  {
   "cell_type": "code",
   "execution_count": null,
   "metadata": {},
   "outputs": [],
   "source": [
    "square(A)\n",
    "\n",
    "if dim == 3: iprint(A[0,2] + A[2,0] + A[1,1])\n",
    "if dim == 2: iprint(A[0,1] + A[1,0])"
   ]
  },
  {
   "cell_type": "markdown",
   "metadata": {},
   "source": [
    "The metric moves the cross diagonal into the diagonal"
   ]
  },
  {
   "cell_type": "code",
   "execution_count": null,
   "metadata": {},
   "outputs": [],
   "source": [
    "iprint(M(1))\n",
    "print()\n",
    "iprint(A)\n",
    "print()\n",
    "iprint(M(1) @ A )\n",
    "print()\n",
    "iprint(np.trace(M(1) @ A))"
   ]
  },
  {
   "cell_type": "markdown",
   "metadata": {},
   "source": [
    "Re-flatten `A` and take the trace operator"
   ]
  },
  {
   "cell_type": "code",
   "execution_count": null,
   "metadata": {},
   "outputs": [],
   "source": [
    "flat(A)\n",
    "\n",
    "iprint(Tr @ A)"
   ]
  },
  {
   "cell_type": "markdown",
   "metadata": {},
   "source": [
    "The rank-2 trace operator matrix"
   ]
  },
  {
   "cell_type": "code",
   "execution_count": null,
   "metadata": {},
   "outputs": [],
   "source": [
    "iprint(Tr(2))"
   ]
  },
  {
   "cell_type": "markdown",
   "metadata": {},
   "source": [
    "The trace is a left eigenvector of transpose."
   ]
  },
  {
   "cell_type": "code",
   "execution_count": null,
   "metadata": {},
   "outputs": [],
   "source": [
    "iprint(Tr(2) @ T(2) - Tr(2))"
   ]
  },
  {
   "cell_type": "markdown",
   "metadata": {},
   "source": [
    "This also works constructing the same thing as abstract operators."
   ]
  },
  {
   "cell_type": "code",
   "execution_count": null,
   "metadata": {},
   "outputs": [],
   "source": [
    "Z = Tr @ T - Tr\n",
    "\n",
    "iprint(Z(2))"
   ]
  },
  {
   "cell_type": "markdown",
   "metadata": {},
   "source": [
    "We can construct the cotrace operator as the transpose."
   ]
  },
  {
   "cell_type": "code",
   "execution_count": null,
   "metadata": {},
   "outputs": [],
   "source": [
    "Cotr = Tr.T\n",
    "\n",
    "iprint(Cotr(0))"
   ]
  },
  {
   "cell_type": "markdown",
   "metadata": {},
   "source": [
    "The square operator multiplies by the dimension:"
   ]
  },
  {
   "cell_type": "code",
   "execution_count": null,
   "metadata": {},
   "outputs": [],
   "source": [
    "iprint((Tr @ Cotr)(0))\n",
    "print()\n",
    "iprint((Tr @ Cotr)(1))\n",
    "print()\n",
    "iprint((Tr @ Cotr)(2))"
   ]
  },
  {
   "cell_type": "markdown",
   "metadata": {},
   "source": [
    "What does this do?"
   ]
  },
  {
   "cell_type": "code",
   "execution_count": null,
   "metadata": {},
   "outputs": [],
   "source": [
    "Tr2 = Cotr @ Tr \n",
    "iprint(Tr2(2))"
   ]
  },
  {
   "cell_type": "markdown",
   "metadata": {},
   "source": [
    "Notice that evaluation is associative."
   ]
  },
  {
   "cell_type": "code",
   "execution_count": null,
   "metadata": {},
   "outputs": [],
   "source": [
    "print()\n",
    "iprint((Cotr @ Tr)(2) - Cotr(0) @ Tr(2))\n",
    "print()\n",
    "iprint((Cotr @ Tr)(2) - Cotr @ Tr(2))\n",
    "print()\n",
    "iprint((Cotr @ Tr)(2) - Cotr(0) @ Tr)"
   ]
  },
  {
   "cell_type": "markdown",
   "metadata": {},
   "source": [
    "Same with acting against arrays"
   ]
  },
  {
   "cell_type": "code",
   "execution_count": null,
   "metadata": {},
   "outputs": [],
   "source": [
    "Cotr @ (Tr @ A) == (Cotr @ Tr) @ A"
   ]
  },
  {
   "cell_type": "markdown",
   "metadata": {},
   "source": [
    "But what is the `Cotr @ Tr` operator?\n",
    "\n",
    "Here is the Metric"
   ]
  },
  {
   "cell_type": "code",
   "execution_count": null,
   "metadata": {},
   "outputs": [],
   "source": [
    "iprint(M(1))\n",
    "print()\n",
    "iprint(M(2))"
   ]
  },
  {
   "cell_type": "code",
   "execution_count": null,
   "metadata": {},
   "outputs": [],
   "source": [
    "B = (Cotr @ Tr) @ A\n",
    "iprint(M(1)*(Tr@A))\n",
    "print()\n",
    "iprint((Tr@A)*M(1))\n",
    "print()\n",
    "square(B)"
   ]
  },
  {
   "cell_type": "markdown",
   "metadata": {},
   "source": [
    "The `Cotr @ Tr` operator multiplies the trace times the metric identity."
   ]
  },
  {
   "cell_type": "markdown",
   "metadata": {},
   "source": [
    "We can interact with the spin elements directly:"
   ]
  },
  {
   "cell_type": "code",
   "execution_count": null,
   "metadata": {},
   "outputs": [],
   "source": [
    "print(T[(-1,+1),(+1,-1)])\n",
    "print()\n",
    "print(Tr[(),(+1,-1)])\n",
    "print(Tr[(),(+1,+1)])"
   ]
  },
  {
   "cell_type": "markdown",
   "metadata": {},
   "source": [
    "The tensor product depends on the spin basis element.\n",
    "\n",
    "Here is a spin e(1) acting on a rank-k field (scalar,vector,2-tensor):"
   ]
  },
  {
   "cell_type": "code",
   "execution_count": null,
   "metadata": {},
   "outputs": [],
   "source": [
    "iprint(P(+1)(0))\n",
    "print()\n",
    "iprint(P(+1)(1))\n",
    "print()\n",
    "iprint(P(+1)(2))"
   ]
  },
  {
   "cell_type": "markdown",
   "metadata": {},
   "source": [
    "We can linearly combine tensor products over basis elements:"
   ]
  },
  {
   "cell_type": "code",
   "execution_count": null,
   "metadata": {},
   "outputs": [],
   "source": [
    "S = 7*P(-1) + 3*P(0) - 2*P(1)\n",
    "\n",
    "iprint(S(0))\n",
    "print()\n",
    "iprint(S(1))\n",
    "print()\n",
    "iprint(S(2))"
   ]
  },
  {
   "cell_type": "markdown",
   "metadata": {},
   "source": [
    "We can see that `S` increases the rank of anything by one."
   ]
  },
  {
   "cell_type": "code",
   "execution_count": null,
   "metadata": {},
   "outputs": [],
   "source": [
    "for k in range(3):\n",
    "    print(k,S.ranks(k))"
   ]
  },
  {
   "cell_type": "markdown",
   "metadata": {},
   "source": [
    "For any input with rank > 0 we can contract over the (0,1) indices with `Tr`"
   ]
  },
  {
   "cell_type": "code",
   "execution_count": null,
   "metadata": {},
   "outputs": [],
   "source": [
    "for k in range(3):\n",
    "    print(k,(Tr @ S).ranks(k))"
   ]
  },
  {
   "cell_type": "code",
   "execution_count": null,
   "metadata": {},
   "outputs": [],
   "source": [
    "iprint(Tr @ S(1))\n",
    "print()\n",
    "iprint(Tr @ S(2))"
   ]
  },
  {
   "cell_type": "markdown",
   "metadata": {},
   "source": [
    "For rank > 2 we can contract twice:"
   ]
  },
  {
   "cell_type": "code",
   "execution_count": null,
   "metadata": {},
   "outputs": [],
   "source": [
    "iprint(Tr @ Tr @ S(3))"
   ]
  },
  {
   "cell_type": "markdown",
   "metadata": {},
   "source": [
    "In general we ca use different trace operators to contract over different indices:"
   ]
  },
  {
   "cell_type": "code",
   "execution_count": null,
   "metadata": {},
   "outputs": [],
   "source": [
    "Tr = lambda i,j: Trace(indices=(i,j),spins=spins)"
   ]
  },
  {
   "cell_type": "code",
   "execution_count": null,
   "metadata": {},
   "outputs": [],
   "source": [
    "print(S.ranks(3))\n",
    "print()\n",
    "iprint(Tr(0,1) @ Tr(0,1) @ S(3))\n",
    "print()\n",
    "iprint(Tr(0,1) @ Tr(0,2) @ S(3))\n",
    "print()\n",
    "iprint(Tr(0,1) @ Tr(0,3) @ S(3))\n",
    "print()\n",
    "iprint(Tr(0,1) @ Tr(1,2) @ S(3))\n",
    "print()\n",
    "iprint(Tr(0,1) @ Tr(2,3) @ S(3))\n",
    "print()\n",
    "iprint(Tr(0,1) @ Tr(1,3) @ S(3))"
   ]
  },
  {
   "cell_type": "markdown",
   "metadata": {},
   "source": [
    "Thinking of $\\mathrm{V}$ as the tensor-product operator, and $T$ as the rank-3 tensor input, these matrices represent the following respective actions:"
   ]
  },
  {
   "cell_type": "markdown",
   "metadata": {},
   "source": [
    "$$\n",
    "\\sum_{\\sigma,\\tau} \\mathrm{V}_{\\sigma}\\ T_{-\\sigma,\\,\\tau,\\,-\\tau}\n",
    "$$\n",
    "\n",
    "$$\n",
    "\\sum_{\\sigma,\\tau} \\mathrm{V}_{\\sigma}\\ T_{\\tau,\\,-\\sigma,\\,-\\tau}\n",
    "$$\n",
    "\n",
    "$$\n",
    "\\sum_{\\sigma,\\tau} \\mathrm{V}_{\\sigma}\\ T_{\\tau,\\,-\\tau,\\,-\\sigma}\n",
    "$$\n",
    "\n",
    "$$\n",
    "\\sum_{\\sigma,\\tau} \\mathrm{V}_{\\tau}\\ T_{\\sigma,\\,-\\sigma,\\,-\\tau}\n",
    "$$\n",
    "\n",
    "$$\n",
    "\\sum_{\\sigma,\\tau} \\mathrm{V}_{\\tau}\\ T_{\\sigma,\\,-\\tau,\\,-\\sigma}\n",
    "$$\n",
    "\n",
    "$$\n",
    "\\sum_{\\sigma,\\tau} \\mathrm{V}_{\\tau}\\ T_{-\\tau\\,\\,\\sigma,\\,-\\sigma}\n",
    "$$"
   ]
  },
  {
   "cell_type": "markdown",
   "metadata": {},
   "source": [
    "Because we can reverse the order of the sums:"
   ]
  },
  {
   "cell_type": "code",
   "execution_count": null,
   "metadata": {},
   "outputs": [],
   "source": [
    "iprint(Tr(0,1) @ (Tr(0,1)-Tr(2,3)) @ S(3))\n",
    "iprint(Tr(0,1) @ (Tr(0,2)-Tr(1,3)) @ S(3))\n",
    "iprint(Tr(0,1) @ (Tr(0,3)-Tr(1,2)) @ S(3))"
   ]
  },
  {
   "cell_type": "code",
   "execution_count": null,
   "metadata": {},
   "outputs": [],
   "source": []
  }
 ],
 "metadata": {
  "kernelspec": {
   "display_name": "Python 3",
   "language": "python",
   "name": "python3"
  },
  "language_info": {
   "codemirror_mode": {
    "name": "ipython",
    "version": 3
   },
   "file_extension": ".py",
   "mimetype": "text/x-python",
   "name": "python",
   "nbconvert_exporter": "python",
   "pygments_lexer": "ipython3",
   "version": "3.7.7"
  }
 },
 "nbformat": 4,
 "nbformat_minor": 4
}

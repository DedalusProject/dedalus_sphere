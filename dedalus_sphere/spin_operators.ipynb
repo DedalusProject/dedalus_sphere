{
 "cells": [
  {
   "cell_type": "code",
   "execution_count": null,
   "metadata": {},
   "outputs": [],
   "source": [
    "import numpy as np\n",
    "\n",
    "np.set_printoptions(precision=5,suppress=True,linewidth=np.inf)\n",
    "\n",
    "import numpy as np\n",
    "\n",
    "from dedalus_sphere.spin_operators import *\n",
    "\n",
    "# helper functions numpy arrays\n",
    "\n",
    "def iprint(M):\n",
    "    print(M.astype(int))\n",
    "    print()\n",
    "    \n",
    "def flat(*args): \n",
    "    for a in args:\n",
    "        a.shape = (dim**2,)\n",
    "        iprint(a)\n",
    "        print()\n",
    "    return None\n",
    "\n",
    "def square(*args):\n",
    "    for a in args:\n",
    "        a.shape = (dim,dim)\n",
    "        iprint(a)\n",
    "        print()\n",
    "    return None\n",
    "\n",
    "def chop(M,eps=1e-9):\n",
    "    \n",
    "    w = np.where(np.abs(M) < eps)\n",
    "    \n",
    "    M[w] = 0\n",
    "    \n",
    "    print(M)\n",
    "    print()\n"
   ]
  },
  {
   "cell_type": "markdown",
   "metadata": {},
   "source": [
    "In regularity space operators are of the form:\n",
    "\n",
    "$$\\large\n",
    "\\mathrm{S}_{\\ell}(\\text{a},\\text{b}) \\ = \\ \\sum_{\\sigma,\\tau} \\mathcal{Q}_{\\ell}(\\text{b},\\sigma) S(\\sigma,\\tau) \\mathcal{Q}_{\\ell}(\\text{a},\\tau)\n",
    "$$\n",
    "\n",
    "$$\\large\n",
    "\\mathrm{T}_{\\ell}(\\text{a},\\text{b}) \\ = \\ \\sum_{\\sigma,\\tau} \\mathcal{Q}_{\\ell}(\\text{b},\\sigma) T(\\sigma,\\tau) \\mathcal{Q}_{\\ell}(\\text{a},\\tau)\n",
    "$$\n",
    "\n",
    "The coeficient inbetween the $\\mathcal{Q}$s are spin coupling coefficients. The $\\ell$ dependence in regularity space makes everything much more annoying to work with. \n",
    "\n",
    "However, we can compose operators in spin space and then compute the regularity space action after the fact.\n",
    "\n",
    "$$\\large\n",
    "(\\mathrm{TS})_{\\ell}(\\text{a},\\text{b}) \\ = \\ \\sum_{\\sigma,\\tau} \\mathcal{Q}_{\\ell}(\\text{b},\\sigma) \\left(\\sum_{\\kappa} T(\\sigma,\\kappa) S(\\kappa,\\tau) \\right) \\mathcal{Q}_{\\ell}(\\text{a},\\tau)\n",
    "$$\n",
    "\n",
    "Being able to compose things allows us to build up any complicated thing in terms of elementary operations in spin space. \n",
    "\n",
    "As far as I can see the elementary operations are \n",
    "\n",
    "* Trace over any two tensor indices. \n",
    "\n",
    "\n",
    "\n",
    "* Transpose (or permutation) over any collection of indices.\n",
    "\n",
    "\n",
    "\n",
    "* Tensor product with any tensorial spin basis element.\n",
    "\n",
    "\n",
    "\n",
    "* Multiplication by the identity.\n",
    "\n",
    "\n",
    "\n",
    "* Multiplication by the metric (physical space identity).\n",
    "\n",
    "\n",
    "\n",
    "* Multiplication be the completly antisymmetric tensor of rank-3.\n",
    "\n",
    "\n",
    "\n",
    "\n",
    "* The linear combination of compatible (same input and output) operators.\n",
    "\n",
    "\n",
    "\n",
    "* The adjoint (transpose) of any of the above operators (reversing input and output). \n",
    "\n",
    "\n",
    "\n",
    "* The composition of any compatible operators."
   ]
  },
  {
   "cell_type": "code",
   "execution_count": null,
   "metadata": {},
   "outputs": [],
   "source": [
    "spins  = (-1,0,+1)\n",
    "dim    = len(spins)\n",
    "\n",
    "I  = Identity(indexing=spins)\n",
    "\n",
    "M  = Metric(indexing=spins)\n",
    "\n",
    "T  = Transpose(permutation=(1,0),indexing=spins)\n",
    "\n",
    "Tr = Trace((0,1),indexing=spins)\n",
    "\n",
    "P  = lambda kappa: TensorProduct(kappa,indexing=spins)\n",
    "\n",
    "Q = lambda ell: Intertwiner(ell,indexing=spins)"
   ]
  },
  {
   "cell_type": "code",
   "execution_count": null,
   "metadata": {},
   "outputs": [],
   "source": [
    "A = np.arange(dim**2,dtype=float)\n",
    "\n",
    "iprint(A)"
   ]
  },
  {
   "cell_type": "code",
   "execution_count": null,
   "metadata": {},
   "outputs": [],
   "source": [
    "B = T(2) @ A\n",
    "\n",
    "iprint(B)\n",
    "\n",
    "square(A,B)"
   ]
  },
  {
   "cell_type": "markdown",
   "metadata": {},
   "source": [
    "The rank-2 transpose operator matrix"
   ]
  },
  {
   "cell_type": "code",
   "execution_count": null,
   "metadata": {},
   "outputs": [],
   "source": [
    "iprint(T(2))"
   ]
  },
  {
   "cell_type": "markdown",
   "metadata": {},
   "source": [
    "The trace in spin space is \n",
    "\n",
    "$$\\large\n",
    "\\text{Tr}(A) = A(-1,+1) + A(0,0) + A(+1,-1)\n",
    "$$"
   ]
  },
  {
   "cell_type": "code",
   "execution_count": null,
   "metadata": {},
   "outputs": [],
   "source": [
    "square(A)\n",
    "\n",
    "if dim == 3: iprint(A[0,2] + A[2,0] + A[1,1])\n",
    "if dim == 2: iprint(A[0,1] + A[1,0])"
   ]
  },
  {
   "cell_type": "markdown",
   "metadata": {},
   "source": [
    "The metric moves the cross diagonal into the diagonal"
   ]
  },
  {
   "cell_type": "code",
   "execution_count": null,
   "metadata": {},
   "outputs": [],
   "source": [
    "iprint(M(1))\n",
    "iprint(A)\n",
    "iprint( M(1) @ A )\n",
    "iprint(np.trace(M(1) @ A))"
   ]
  },
  {
   "cell_type": "markdown",
   "metadata": {},
   "source": [
    "Re-flatten `A` and take the trace operator"
   ]
  },
  {
   "cell_type": "code",
   "execution_count": null,
   "metadata": {},
   "outputs": [],
   "source": [
    "flat(A)\n",
    "\n",
    "iprint(Tr(2) @ A)"
   ]
  },
  {
   "cell_type": "markdown",
   "metadata": {},
   "source": [
    "The rank-2 trace operator matrix"
   ]
  },
  {
   "cell_type": "code",
   "execution_count": null,
   "metadata": {},
   "outputs": [],
   "source": [
    "iprint(Tr(2))"
   ]
  },
  {
   "cell_type": "markdown",
   "metadata": {},
   "source": [
    "The non-zeros spin elements:"
   ]
  },
  {
   "cell_type": "code",
   "execution_count": null,
   "metadata": {},
   "outputs": [],
   "source": [
    "print(Tr[(),(-1,+1)])\n",
    "print(Tr[(),( 0, 0)])\n",
    "print(Tr[(),(+1,-1)])"
   ]
  },
  {
   "cell_type": "markdown",
   "metadata": {},
   "source": [
    "The trace is a left eigenvector of transpose."
   ]
  },
  {
   "cell_type": "code",
   "execution_count": null,
   "metadata": {},
   "outputs": [],
   "source": [
    "iprint(Tr(2) @ T(2) - Tr(2))"
   ]
  },
  {
   "cell_type": "markdown",
   "metadata": {},
   "source": [
    "This also works constructing the same thing as abstract operators."
   ]
  },
  {
   "cell_type": "code",
   "execution_count": null,
   "metadata": {},
   "outputs": [],
   "source": [
    "Z = Tr @ T - Tr\n",
    "\n",
    "iprint(Z(2))"
   ]
  },
  {
   "cell_type": "markdown",
   "metadata": {},
   "source": [
    "We can construct the cotrace operator as the transpose."
   ]
  },
  {
   "cell_type": "code",
   "execution_count": null,
   "metadata": {},
   "outputs": [],
   "source": [
    "Cotr = Tr.T\n",
    "\n",
    "iprint(Cotr(0))"
   ]
  },
  {
   "cell_type": "markdown",
   "metadata": {},
   "source": [
    "The square operator multiplies by the dimension:"
   ]
  },
  {
   "cell_type": "code",
   "execution_count": null,
   "metadata": {},
   "outputs": [],
   "source": [
    "iprint((Tr @ Cotr)(0))\n",
    "iprint((Tr @ Cotr)(1))\n",
    "iprint((Tr @ Cotr)(2))"
   ]
  },
  {
   "cell_type": "markdown",
   "metadata": {},
   "source": [
    "We can also use the trace to get the spin-0 element of a vector:"
   ]
  },
  {
   "cell_type": "code",
   "execution_count": null,
   "metadata": {},
   "outputs": [],
   "source": [
    "Trace(0)(1)"
   ]
  },
  {
   "cell_type": "markdown",
   "metadata": {},
   "source": [
    "Same for a tensor:"
   ]
  },
  {
   "cell_type": "code",
   "execution_count": null,
   "metadata": {},
   "outputs": [],
   "source": [
    "(Trace(0) @ Trace(1))(2)"
   ]
  },
  {
   "cell_type": "markdown",
   "metadata": {},
   "source": [
    "Or to project out the angular trace:"
   ]
  },
  {
   "cell_type": "code",
   "execution_count": null,
   "metadata": {},
   "outputs": [],
   "source": [
    "(Trace((0,1)) - Trace(0) @ Trace(1))(2)"
   ]
  },
  {
   "cell_type": "markdown",
   "metadata": {},
   "source": [
    "This projects out the radial part of a vector:"
   ]
  },
  {
   "cell_type": "code",
   "execution_count": null,
   "metadata": {},
   "outputs": [],
   "source": [
    "(Trace(()) - (Trace(0).T) @ Trace(0))(1)"
   ]
  },
  {
   "cell_type": "markdown",
   "metadata": {},
   "source": [
    "BTW:"
   ]
  },
  {
   "cell_type": "markdown",
   "metadata": {},
   "source": [
    "We can do some pretty crazy things:"
   ]
  },
  {
   "cell_type": "code",
   "execution_count": null,
   "metadata": {},
   "outputs": [],
   "source": [
    "(Trace((0,1,2)) -  Trace(0) @ ( Trace((0,1)) + Trace((0,2)) + Trace((1,2)) - 2 * Trace(0) @ Trace(0) ) ) (3)"
   ]
  },
  {
   "cell_type": "markdown",
   "metadata": {},
   "source": [
    "What about this?\n",
    "\n",
    "$$\\large\n",
    "\\text{S} \\, \\circ \\, T \\ = \\ T + T^{\\top} - \\frac{2}{d}\\, \\text{Tr}(T)\\, I \n",
    "$$"
   ]
  },
  {
   "cell_type": "code",
   "execution_count": null,
   "metadata": {},
   "outputs": [],
   "source": [
    "S = I + T - (2/I.dimension)*Cotr @ Tr\n",
    "\n",
    "chop(S(2))"
   ]
  },
  {
   "cell_type": "code",
   "execution_count": null,
   "metadata": {},
   "outputs": [],
   "source": [
    "chop((Tr @ S)(2))"
   ]
  },
  {
   "cell_type": "code",
   "execution_count": null,
   "metadata": {},
   "outputs": [],
   "source": [
    "Tr2 = Cotr @ Tr \n",
    "iprint(Tr2(2))"
   ]
  },
  {
   "cell_type": "markdown",
   "metadata": {},
   "source": [
    "Evaluation keeps track of the rank"
   ]
  },
  {
   "cell_type": "code",
   "execution_count": null,
   "metadata": {},
   "outputs": [],
   "source": [
    "iprint((Cotr @ Tr)(2) - Cotr(0) @ Tr(2))"
   ]
  },
  {
   "cell_type": "markdown",
   "metadata": {},
   "source": [
    "Same with acting against arrays"
   ]
  },
  {
   "cell_type": "markdown",
   "metadata": {},
   "source": [
    "What is the `Cotr @ Tr` operator?\n",
    "\n",
    "Here is the Metric"
   ]
  },
  {
   "cell_type": "code",
   "execution_count": null,
   "metadata": {},
   "outputs": [],
   "source": [
    "iprint(M(1))\n",
    "iprint(M(2))"
   ]
  },
  {
   "cell_type": "code",
   "execution_count": null,
   "metadata": {},
   "outputs": [],
   "source": [
    "B = (Cotr @ Tr)(2) @ A\n",
    "iprint(M(1)*(Tr(2) @ A))\n",
    "iprint((Tr(2) @ A)*M(1))\n",
    "square(B)"
   ]
  },
  {
   "cell_type": "markdown",
   "metadata": {},
   "source": [
    "The `Cotr @ Tr` operator multiplies the trace times the metric identity."
   ]
  },
  {
   "cell_type": "markdown",
   "metadata": {},
   "source": [
    "We can interact with the spin elements directly:"
   ]
  },
  {
   "cell_type": "code",
   "execution_count": null,
   "metadata": {},
   "outputs": [],
   "source": [
    "print(T[(-1,+1),(+1,-1)])\n",
    "print(Tr[(),(+1,-1)])\n",
    "print(Tr[(),(+1,+1)])"
   ]
  },
  {
   "cell_type": "markdown",
   "metadata": {},
   "source": [
    "The tensor product depends on the spin basis element.\n",
    "\n",
    "Here is a spin e(1) acting on a rank-k field (scalar,vector,2-tensor):\n",
    "\n",
    "$$\\large\n",
    "e(1) \\otimes T \\quad \\text{as an abstract operator}\n",
    "$$"
   ]
  },
  {
   "cell_type": "code",
   "execution_count": null,
   "metadata": {},
   "outputs": [],
   "source": [
    "iprint(P(+1)(0))\n",
    "iprint(P(+1)(1))\n",
    "iprint(P(+1)(2))"
   ]
  },
  {
   "cell_type": "markdown",
   "metadata": {},
   "source": [
    "We can linearly combine tensor products over basis elements:"
   ]
  },
  {
   "cell_type": "code",
   "execution_count": null,
   "metadata": {},
   "outputs": [],
   "source": [
    "S = 7*P(-1) + 3*P(0) - 2*P(1)\n",
    "\n",
    "iprint(S(0))\n",
    "iprint(S(1))\n",
    "iprint(S(2))"
   ]
  },
  {
   "cell_type": "markdown",
   "metadata": {},
   "source": [
    "We can see that `S` increases the rank of anything by one."
   ]
  },
  {
   "cell_type": "code",
   "execution_count": null,
   "metadata": {},
   "outputs": [],
   "source": [
    "S.codomain"
   ]
  },
  {
   "cell_type": "markdown",
   "metadata": {},
   "source": [
    "For any input with rank > 0 we can contract over the (0,1) indices with `Tr`\n",
    "\n",
    "$$\\large\n",
    "(7 e(-) + 3 e(0) - 2 e(+)) \\cdot T\n",
    "$$"
   ]
  },
  {
   "cell_type": "code",
   "execution_count": null,
   "metadata": {},
   "outputs": [],
   "source": [
    "(Tr @ S).codomain"
   ]
  },
  {
   "cell_type": "code",
   "execution_count": null,
   "metadata": {},
   "outputs": [],
   "source": [
    "iprint((Tr @ S)(1))\n",
    "iprint((Tr @ S)(2))"
   ]
  },
  {
   "cell_type": "markdown",
   "metadata": {},
   "source": [
    "For 2 < rank we can contract twice:\n",
    "\n",
    "$$\\large\n",
    "\\text{Tr} \\left( (7 e(-) + 3 e(0) - 2 e(+)) \\cdot T \\right)\n",
    "$$"
   ]
  },
  {
   "cell_type": "code",
   "execution_count": null,
   "metadata": {},
   "outputs": [],
   "source": [
    "print((Tr @ Tr @ S).codomain)\n",
    "iprint((Tr @ Tr @ S)(3))"
   ]
  },
  {
   "cell_type": "markdown",
   "metadata": {},
   "source": [
    "In general we ca use different trace operators to contract over different indices:"
   ]
  },
  {
   "cell_type": "code",
   "execution_count": null,
   "metadata": {},
   "outputs": [],
   "source": [
    "Tr = lambda i,j: Trace((i,j),indexing=spins)"
   ]
  },
  {
   "cell_type": "code",
   "execution_count": null,
   "metadata": {},
   "outputs": [],
   "source": [
    "iprint((Tr(0,1) @ Tr(0,1) @ S)(3))\n",
    "iprint((Tr(0,1) @ Tr(0,2) @ S)(3))\n",
    "iprint((Tr(0,1) @ Tr(0,3) @ S)(3))\n",
    "iprint((Tr(0,1) @ Tr(1,2) @ S)(3))\n",
    "iprint((Tr(0,1) @ Tr(2,3) @ S)(3))\n",
    "iprint((Tr(0,1) @ Tr(1,3) @ S)(3))"
   ]
  },
  {
   "cell_type": "markdown",
   "metadata": {},
   "source": [
    "Thinking of $\\mathrm{V}$ as the tensor-product operator, and $T$ as the rank-3 tensor input, these matrices represent the following respective actions:"
   ]
  },
  {
   "cell_type": "markdown",
   "metadata": {},
   "source": [
    "$$\\large\n",
    "\\sum_{\\sigma,\\tau} \\mathrm{V}_{\\sigma}\\ T_{-\\sigma,\\,\\tau,\\,-\\tau}, \n",
    "\\quad \\sum_{\\sigma,\\tau} \\mathrm{V}_{\\sigma}\\ T_{\\tau,\\,-\\sigma,\\,-\\tau}, \\quad\n",
    "\\sum_{\\sigma,\\tau} \\mathrm{V}_{\\tau}\\ T_{\\sigma,\\,-\\sigma,\\,-\\tau}\n",
    "$$\n",
    "\n",
    "\n",
    "$$\\large\n",
    "\\sum_{\\sigma,\\tau} \\mathrm{V}_{\\tau}\\ T_{\\sigma,\\,-\\sigma,\\,-\\tau}, \\quad \\sum_{\\sigma,\\tau} \\mathrm{V}_{\\tau}\\ T_{\\sigma,\\,-\\tau,\\,-\\sigma},\\quad\n",
    "\\sum_{\\sigma,\\tau} \\mathrm{V}_{\\tau}\\ T_{-\\tau\\,\\,\\sigma,\\,-\\sigma}\n",
    "$$"
   ]
  },
  {
   "cell_type": "markdown",
   "metadata": {},
   "source": [
    "Because we can reverse the order of the sums:"
   ]
  },
  {
   "cell_type": "code",
   "execution_count": null,
   "metadata": {},
   "outputs": [],
   "source": [
    "rank = 3\n",
    "\n",
    "Z1 = Tr(0,1) @ (Tr(0,1)-Tr(2,3)) @ S\n",
    "Z2 = Tr(0,1) @ (Tr(0,2)-Tr(1,3)) @ S\n",
    "Z3 = Tr(0,1) @ (Tr(0,3)-Tr(1,2)) @ S\n",
    "iprint(Z1(rank))\n",
    "iprint(Z2(rank))\n",
    "iprint(Z3(rank))"
   ]
  },
  {
   "cell_type": "markdown",
   "metadata": {},
   "source": [
    "For rank-4;"
   ]
  },
  {
   "cell_type": "code",
   "execution_count": null,
   "metadata": {},
   "outputs": [],
   "source": [
    "rank = 4\n",
    "iprint(Z1(rank))\n",
    "iprint(Z2(rank))\n",
    "iprint(Z3(rank))"
   ]
  },
  {
   "cell_type": "markdown",
   "metadata": {},
   "source": [
    "Last we have the spin-to-regularity intertwiners."
   ]
  },
  {
   "cell_type": "markdown",
   "metadata": {},
   "source": [
    "For a sanity check, we get the right answer compared to the old version."
   ]
  },
  {
   "cell_type": "code",
   "execution_count": null,
   "metadata": {},
   "outputs": [],
   "source": [
    "from old_intertwiner import regularity2spinMap as old_Q\n",
    "\n",
    "max_rank = 3\n",
    "max_ell  = 10\n",
    "\n",
    "good = True\n",
    "for r in range(max_rank+1):\n",
    "    for l in range(max_ell+1):\n",
    "        for i in Q(l).range(2*r):\n",
    "            good = good and abs(old_Q(l,i[:r],i[r:]) - Q(l)[i[:r],i[r:]]) < Q(l).threshold\n",
    "print(good)"
   ]
  },
  {
   "cell_type": "markdown",
   "metadata": {},
   "source": [
    "For rank=1:"
   ]
  },
  {
   "cell_type": "code",
   "execution_count": null,
   "metadata": {},
   "outputs": [],
   "source": [
    "for ell in range(5):\n",
    "    chop(Q(ell)(1))\n",
    "    print()"
   ]
  },
  {
   "cell_type": "markdown",
   "metadata": {},
   "source": [
    "Calling on rank=2:"
   ]
  },
  {
   "cell_type": "code",
   "execution_count": null,
   "metadata": {},
   "outputs": [],
   "source": [
    "for ell in range(4):\n",
    "    chop(Q(ell)(2))\n",
    "    print()"
   ]
  },
  {
   "cell_type": "markdown",
   "metadata": {},
   "source": [
    "We can also index the elements directly:"
   ]
  },
  {
   "cell_type": "code",
   "execution_count": null,
   "metadata": {},
   "outputs": [],
   "source": [
    "spin = 0\n",
    "regularity = 1\n",
    "\n",
    "Q(0)[spin,regularity]\n",
    "\n",
    "\n",
    "spin = (-1,1)\n",
    "regularity = (0,1)\n",
    "\n",
    "Q(0)[spin,regularity]"
   ]
  },
  {
   "cell_type": "markdown",
   "metadata": {},
   "source": [
    "We can see the operator is orthogonal"
   ]
  },
  {
   "cell_type": "code",
   "execution_count": null,
   "metadata": {},
   "outputs": [],
   "source": [
    "for ell in range(4):\n",
    "\n",
    "    chop((Q(ell).T @ Q(ell))(1))\n",
    "\n",
    "    chop((Q(ell) @ Q(ell).T)(1))\n",
    "\n",
    "    print()"
   ]
  },
  {
   "cell_type": "code",
   "execution_count": null,
   "metadata": {},
   "outputs": [],
   "source": [
    "for ell in range(3):\n",
    "\n",
    "    chop((Q(ell).T @ Q(ell))(2))\n",
    "\n",
    "    chop((Q(ell) @ Q(ell).T)(2))\n",
    "\n",
    "    print()\n"
   ]
  },
  {
   "cell_type": "markdown",
   "metadata": {},
   "source": [
    "We can build regularity-space operators out of the spin representations\n",
    "\n",
    "For the metric:"
   ]
  },
  {
   "cell_type": "code",
   "execution_count": null,
   "metadata": {},
   "outputs": [],
   "source": [
    "for ell in range(4):\n",
    "    chop((Q(ell).T @ M @ Q(ell))(1))"
   ]
  },
  {
   "cell_type": "markdown",
   "metadata": {},
   "source": [
    "For the trace:"
   ]
  },
  {
   "cell_type": "code",
   "execution_count": null,
   "metadata": {},
   "outputs": [],
   "source": [
    "TRACE = np.zeros((3,3))\n",
    "for ell in range(4):\n",
    "    for i,a in enumerate((-1,0,1)):\n",
    "        for j,b in enumerate((-1,0,1)):\n",
    "            TRACE[i,j] = (Q(ell).T @ Tr(0,1) @ Q(ell))[(),(a,b)]\n",
    "    chop(TRACE)"
   ]
  },
  {
   "cell_type": "markdown",
   "metadata": {},
   "source": [
    "This should be:\n",
    "$$\n",
    "\\left[\n",
    "\\begin{array}{ccc}\n",
    " 0 & 0 & \\frac{\\sqrt{2 \\ell +3}}{\\sqrt{2 \\ell +1}} \\\\\n",
    " 0 & 1 & 0 \\\\\n",
    " \\frac{\\sqrt{2 \\ell -1}}{\\sqrt{2 \\ell +1}} & 0 & 0 \\\\\n",
    "\\end{array}\n",
    "\\right]\n",
    "$$"
   ]
  },
  {
   "cell_type": "code",
   "execution_count": null,
   "metadata": {},
   "outputs": [],
   "source": [
    "for ell in range(1,4):\n",
    "    print(np.sqrt((2*ell-1)/(2*ell+1)),1,np.sqrt((2*ell+3)/(2*ell+1)))"
   ]
  },
  {
   "cell_type": "markdown",
   "metadata": {},
   "source": [
    "For the transpose:"
   ]
  },
  {
   "cell_type": "code",
   "execution_count": null,
   "metadata": {},
   "outputs": [],
   "source": [
    "ell = 3\n",
    "chop((Q(ell).T @ T @ Q(ell))(2))"
   ]
  },
  {
   "cell_type": "code",
   "execution_count": null,
   "metadata": {},
   "outputs": [],
   "source": [
    "reg0 = ((-1,+1),(0,0),(+1,-1))\n",
    "\n",
    "DAG = np.zeros((3,3))\n",
    "for ell in range(4):\n",
    "    for i,a in enumerate(reg0):\n",
    "        for j,b in enumerate(reg0):\n",
    "            DAG[i,j] = (Q(ell).T @ T @ Q(ell))[a,b]\n",
    "    chop(DAG)"
   ]
  },
  {
   "cell_type": "markdown",
   "metadata": {},
   "source": [
    "This should be:\n",
    "\n",
    "$$\n",
    "\\left[\n",
    "\\begin{array}{ccc}\n",
    " \\frac{1}{(\\ell +1) (2 \\ell +1)} & \\frac{\\sqrt{2 \\ell\n",
    "   +3}}{(\\ell +1) \\sqrt{2 \\ell +1}} & \\frac{\\sqrt{(2\n",
    "   \\ell -1) (2 \\ell +3)}}{2 \\ell +1} \\\\\n",
    " \\frac{\\sqrt{2 \\ell +3}}{(\\ell +1) \\sqrt{2 \\ell +1}} &\n",
    "   1-\\frac{1}{\\ell  (\\ell +1)} & -\\frac{\\sqrt{2 \\ell\n",
    "   -1}}{\\ell  \\sqrt{2 \\ell +1}} \\\\\n",
    " \\frac{\\sqrt{(2 \\ell -1) (2 \\ell +3)}}{2 \\ell +1} &\n",
    "   -\\frac{\\sqrt{2 \\ell -1}}{\\ell  \\sqrt{2 \\ell +1}} &\n",
    "   \\frac{1}{\\ell  (2 \\ell +1)} \\\\\n",
    "\\end{array}\n",
    "\\right]\n",
    "$$\n",
    "\n",
    "\n",
    "<br>"
   ]
  },
  {
   "cell_type": "markdown",
   "metadata": {},
   "source": [
    "Here's how we can build up NCC operators in regularity space. \n",
    "\n",
    "For one example:"
   ]
  },
  {
   "cell_type": "code",
   "execution_count": null,
   "metadata": {},
   "outputs": [],
   "source": [
    "NCC = lambda l, a: Q(l).T @ sum( Q(0)[e,a] * Trace((len(e)-1,len(e))) @ P(e) for e in Q(0).range(len(a))) @ Q(l)"
   ]
  },
  {
   "cell_type": "markdown",
   "metadata": {},
   "source": [
    "Here are the three non-zero regularity coupling matrices that compute matrix multiplication operators"
   ]
  },
  {
   "cell_type": "code",
   "execution_count": null,
   "metadata": {},
   "outputs": [],
   "source": [
    "ell = 10\n",
    "\n",
    "for a in ((-1,1),(0,1),(1,1)):\n",
    "    print(NCC(ell,a)(1))\n",
    "    print()"
   ]
  },
  {
   "cell_type": "markdown",
   "metadata": {},
   "source": [
    "The others vanish"
   ]
  },
  {
   "cell_type": "code",
   "execution_count": null,
   "metadata": {},
   "outputs": [],
   "source": [
    "for s in (-1,0,1):\n",
    "    print(NCC(ell,(s,-1))(1))\n",
    "    print()\n",
    "    print(NCC(ell,(s,0))(1))\n",
    "    print()"
   ]
  },
  {
   "cell_type": "markdown",
   "metadata": {},
   "source": [
    "We can check the selection rules:"
   ]
  },
  {
   "cell_type": "code",
   "execution_count": null,
   "metadata": {},
   "outputs": [],
   "source": [
    "for rank in (1,2,3):\n",
    "    \n",
    "    print()\n",
    "    print()\n",
    "    print('rank:',rank)\n",
    "\n",
    "    print(' _   _   _     _     _    _  ')\n",
    "    print(' a   b   c  :  a - | b -  c |')\n",
    "    print('--- --- ---   ----------------')\n",
    "    for a in Q(0).range(rank):\n",
    "        if not Q(0).forbidden_regularity(a):\n",
    "            for b in NCC(ell,a).range(rank-1):\n",
    "                for c in NCC(ell,a).range(1):\n",
    "                    if NCC(ell,a)[b,c] != 0:\n",
    "                        rule = sum(a) - abs(sum(b)-sum(c))\n",
    "                        print(f'{sum(a):>2}, {sum(b):>2}, {sum(c):>2}  :  {rule}')"
   ]
  },
  {
   "cell_type": "code",
   "execution_count": null,
   "metadata": {},
   "outputs": [],
   "source": []
  }
 ],
 "metadata": {
  "kernelspec": {
   "display_name": "Python 3",
   "language": "python",
   "name": "python3"
  },
  "language_info": {
   "codemirror_mode": {
    "name": "ipython",
    "version": 3
   },
   "file_extension": ".py",
   "mimetype": "text/x-python",
   "name": "python",
   "nbconvert_exporter": "python",
   "pygments_lexer": "ipython3",
   "version": "3.8.2"
  }
 },
 "nbformat": 4,
 "nbformat_minor": 4
}

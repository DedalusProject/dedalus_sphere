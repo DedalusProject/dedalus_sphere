{
 "cells": [
  {
   "cell_type": "code",
   "execution_count": 1,
   "metadata": {},
   "outputs": [],
   "source": [
    "import numpy as np\n",
    "\n",
    "np.set_printoptions(precision=5,suppress=True,linewidth=np.inf)\n",
    "\n",
    "import numpy as np\n",
    "\n",
    "from .spin_operators import *\n",
    "\n",
    "# helper functions numpy arrays\n",
    "\n",
    "def iprint(M):\n",
    "    print(M.astype(int))\n",
    "    print()\n",
    "    \n",
    "def flat(*args): \n",
    "    for a in args:\n",
    "        a.shape = (dim**2,)\n",
    "        iprint(a)\n",
    "        print()\n",
    "    return None\n",
    "\n",
    "def square(*args):\n",
    "    for a in args:\n",
    "        a.shape = (dim,dim)\n",
    "        iprint(a)\n",
    "        print()\n",
    "    return None\n",
    "\n",
    "def chop(M,eps=1e-9):\n",
    "    \n",
    "    w = np.where(np.abs(M) < eps)\n",
    "    \n",
    "    M[w] = 0\n",
    "    \n",
    "    print(M)\n",
    "    print()\n"
   ]
  },
  {
   "cell_type": "markdown",
   "metadata": {},
   "source": [
    "In regularity space operators are of the form:\n",
    "\n",
    "$$\\large\n",
    "\\mathrm{S}_{\\ell}(\\text{a},\\text{b}) \\ = \\ \\sum_{\\sigma,\\tau} \\mathcal{Q}_{\\ell}(\\text{b},\\sigma) S(\\sigma,\\tau) \\mathcal{Q}_{\\ell}(\\text{a},\\tau)\n",
    "$$\n",
    "\n",
    "$$\\large\n",
    "\\mathrm{T}_{\\ell}(\\text{a},\\text{b}) \\ = \\ \\sum_{\\sigma,\\tau} \\mathcal{Q}_{\\ell}(\\text{b},\\sigma) T(\\sigma,\\tau) \\mathcal{Q}_{\\ell}(\\text{a},\\tau)\n",
    "$$\n",
    "\n",
    "The coeficient inbetween the $\\mathcal{Q}$s are spin coupling coefficients. The $\\ell$ dependence in regularity space makes everything much more annoying to work with. \n",
    "\n",
    "However, we can compose operators in spin space and then compute the regularity space action after the fact.\n",
    "\n",
    "$$\\large\n",
    "(\\mathrm{TS})_{\\ell}(\\text{a},\\text{b}) \\ = \\ \\sum_{\\sigma,\\tau} \\mathcal{Q}_{\\ell}(\\text{b},\\sigma) \\left(\\sum_{\\kappa} T(\\sigma,\\kappa) S(\\kappa,\\tau) \\right) \\mathcal{Q}_{\\ell}(\\text{a},\\tau)\n",
    "$$\n",
    "\n",
    "Being able to compose things allows us to build up any complicated thing in terms of elementary operations in spin space. \n",
    "\n",
    "As far as I can see the elementary operations are \n",
    "\n",
    "* Trace over any two tensor indices. \n",
    "\n",
    "\n",
    "\n",
    "* Transpose (or permutation) over any collection of indices.\n",
    "\n",
    "\n",
    "\n",
    "* Tensor product with any tensorial spin basis element.\n",
    "\n",
    "\n",
    "\n",
    "* Multiplication by the identity.\n",
    "\n",
    "\n",
    "\n",
    "* Multiplication by the metric (physical space identity).\n",
    "\n",
    "\n",
    "\n",
    "* Multiplication be the completly antisymmetric tensor of rank-3.\n",
    "\n",
    "\n",
    "\n",
    "\n",
    "* The linear combination of compatible (same input and output) operators.\n",
    "\n",
    "\n",
    "\n",
    "* The adjoint (transpose) of any of the above operators (reversing input and output). \n",
    "\n",
    "\n",
    "\n",
    "* The composition of any compatible operators."
   ]
  },
  {
   "cell_type": "code",
   "execution_count": 28,
   "metadata": {},
   "outputs": [],
   "source": [
    "spins  = (-1,0,+1)\n",
    "dim    = len(spins)\n",
    "\n",
    "I  = Identity(indexing=spins)\n",
    "\n",
    "M  = Metric(indexing=spins)\n",
    "\n",
    "T  = Transpose(permutation=(1,0),indexing=spins)\n",
    "\n",
    "Tr = Trace((0,1),indexing=spins)\n",
    "\n",
    "P  = lambda kappa: TensorProduct(kappa,indexing=spins)\n",
    "\n",
    "Q = lambda ell: Intertwiner(ell,indexing=spins)"
   ]
  },
  {
   "cell_type": "code",
   "execution_count": 29,
   "metadata": {},
   "outputs": [],
   "source": [
    "from operators import Codomain"
   ]
  },
  {
   "cell_type": "code",
   "execution_count": 30,
   "metadata": {},
   "outputs": [],
   "source": [
    "c = Codomain(Tr.codomain,P((0,)).codomain)\n",
    "d = Codomain(Tr.codomain,P((1,)).codomain)"
   ]
  },
  {
   "cell_type": "code",
   "execution_count": 31,
   "metadata": {},
   "outputs": [
    {
     "data": {
      "text/plain": [
       "False"
      ]
     },
     "execution_count": 31,
     "metadata": {},
     "output_type": "execute_result"
    }
   ],
   "source": [
    "c | d is c "
   ]
  },
  {
   "cell_type": "code",
   "execution_count": 3,
   "metadata": {},
   "outputs": [
    {
     "name": "stdout",
     "output_type": "stream",
     "text": [
      "[0 1 2 3 4 5 6 7 8]\n",
      "\n"
     ]
    }
   ],
   "source": [
    "A = np.arange(dim**2,dtype=float)\n",
    "\n",
    "iprint(A)"
   ]
  },
  {
   "cell_type": "code",
   "execution_count": 4,
   "metadata": {},
   "outputs": [
    {
     "name": "stdout",
     "output_type": "stream",
     "text": [
      "[0 3 6 1 4 7 2 5 8]\n",
      "\n",
      "[[0 1 2]\n",
      " [3 4 5]\n",
      " [6 7 8]]\n",
      "\n",
      "\n",
      "[[0 3 6]\n",
      " [1 4 7]\n",
      " [2 5 8]]\n",
      "\n",
      "\n"
     ]
    }
   ],
   "source": [
    "B = T(2) @ A\n",
    "\n",
    "iprint(B)\n",
    "\n",
    "square(A,B)"
   ]
  },
  {
   "cell_type": "markdown",
   "metadata": {},
   "source": [
    "The rank-2 transpose operator matrix"
   ]
  },
  {
   "cell_type": "code",
   "execution_count": 5,
   "metadata": {},
   "outputs": [
    {
     "name": "stdout",
     "output_type": "stream",
     "text": [
      "[[1 0 0 0 0 0 0 0 0]\n",
      " [0 0 0 1 0 0 0 0 0]\n",
      " [0 0 0 0 0 0 1 0 0]\n",
      " [0 1 0 0 0 0 0 0 0]\n",
      " [0 0 0 0 1 0 0 0 0]\n",
      " [0 0 0 0 0 0 0 1 0]\n",
      " [0 0 1 0 0 0 0 0 0]\n",
      " [0 0 0 0 0 1 0 0 0]\n",
      " [0 0 0 0 0 0 0 0 1]]\n",
      "\n"
     ]
    }
   ],
   "source": [
    "iprint(T(2))"
   ]
  },
  {
   "cell_type": "markdown",
   "metadata": {},
   "source": [
    "The trace in spin space is \n",
    "\n",
    "$$\\large\n",
    "\\text{Tr}(A) = A(-1,+1) + A(0,0) + A(+1,-1)\n",
    "$$"
   ]
  },
  {
   "cell_type": "code",
   "execution_count": 6,
   "metadata": {},
   "outputs": [
    {
     "name": "stdout",
     "output_type": "stream",
     "text": [
      "[[0 1 2]\n",
      " [3 4 5]\n",
      " [6 7 8]]\n",
      "\n",
      "\n",
      "12\n",
      "\n"
     ]
    }
   ],
   "source": [
    "square(A)\n",
    "\n",
    "if dim == 3: iprint(A[0,2] + A[2,0] + A[1,1])\n",
    "if dim == 2: iprint(A[0,1] + A[1,0])"
   ]
  },
  {
   "cell_type": "markdown",
   "metadata": {},
   "source": [
    "The metric moves the cross diagonal into the diagonal"
   ]
  },
  {
   "cell_type": "code",
   "execution_count": 7,
   "metadata": {},
   "outputs": [
    {
     "name": "stdout",
     "output_type": "stream",
     "text": [
      "[[0 0 1]\n",
      " [0 1 0]\n",
      " [1 0 0]]\n",
      "\n",
      "[[0 1 2]\n",
      " [3 4 5]\n",
      " [6 7 8]]\n",
      "\n",
      "[[6 7 8]\n",
      " [3 4 5]\n",
      " [0 1 2]]\n",
      "\n",
      "12\n",
      "\n"
     ]
    }
   ],
   "source": [
    "iprint(M(1))\n",
    "iprint(A)\n",
    "iprint( M(1) @ A )\n",
    "iprint(np.trace(M(1) @ A))"
   ]
  },
  {
   "cell_type": "markdown",
   "metadata": {},
   "source": [
    "Re-flatten `A` and take the trace operator"
   ]
  },
  {
   "cell_type": "code",
   "execution_count": 8,
   "metadata": {},
   "outputs": [
    {
     "name": "stdout",
     "output_type": "stream",
     "text": [
      "[0 1 2 3 4 5 6 7 8]\n",
      "\n",
      "\n",
      "[12]\n",
      "\n"
     ]
    }
   ],
   "source": [
    "flat(A)\n",
    "\n",
    "iprint(Tr(2) @ A)"
   ]
  },
  {
   "cell_type": "markdown",
   "metadata": {},
   "source": [
    "The rank-2 trace operator matrix"
   ]
  },
  {
   "cell_type": "code",
   "execution_count": 9,
   "metadata": {},
   "outputs": [
    {
     "name": "stdout",
     "output_type": "stream",
     "text": [
      "[[0 0 1 0 1 0 1 0 0]]\n",
      "\n"
     ]
    }
   ],
   "source": [
    "iprint(Tr(2))"
   ]
  },
  {
   "cell_type": "markdown",
   "metadata": {},
   "source": [
    "The non-zeros spin elements:"
   ]
  },
  {
   "cell_type": "code",
   "execution_count": 10,
   "metadata": {},
   "outputs": [
    {
     "name": "stdout",
     "output_type": "stream",
     "text": [
      "1\n",
      "1\n",
      "1\n"
     ]
    }
   ],
   "source": [
    "print(Tr[(),(-1,+1)])\n",
    "print(Tr[(),( 0, 0)])\n",
    "print(Tr[(),(+1,-1)])"
   ]
  },
  {
   "cell_type": "markdown",
   "metadata": {},
   "source": [
    "The trace is a left eigenvector of transpose."
   ]
  },
  {
   "cell_type": "code",
   "execution_count": 11,
   "metadata": {},
   "outputs": [
    {
     "name": "stdout",
     "output_type": "stream",
     "text": [
      "[[0 0 0 0 0 0 0 0 0]]\n",
      "\n"
     ]
    }
   ],
   "source": [
    "iprint(Tr(2) @ T(2) - Tr(2))"
   ]
  },
  {
   "cell_type": "markdown",
   "metadata": {},
   "source": [
    "This also works constructing the same thing as abstract operators."
   ]
  },
  {
   "cell_type": "code",
   "execution_count": 12,
   "metadata": {},
   "outputs": [
    {
     "name": "stdout",
     "output_type": "stream",
     "text": [
      "[[0 0 0 0 0 0 0 0 0]]\n",
      "\n"
     ]
    }
   ],
   "source": [
    "Z = Tr @ T - Tr\n",
    "\n",
    "iprint(Z(2))"
   ]
  },
  {
   "cell_type": "markdown",
   "metadata": {},
   "source": [
    "We can construct the cotrace operator as the transpose."
   ]
  },
  {
   "cell_type": "code",
   "execution_count": 13,
   "metadata": {},
   "outputs": [
    {
     "name": "stdout",
     "output_type": "stream",
     "text": [
      "[[0]\n",
      " [0]\n",
      " [1]\n",
      " [0]\n",
      " [1]\n",
      " [0]\n",
      " [1]\n",
      " [0]\n",
      " [0]]\n",
      "\n"
     ]
    }
   ],
   "source": [
    "Cotr = Tr.T\n",
    "\n",
    "iprint(Cotr(0))"
   ]
  },
  {
   "cell_type": "markdown",
   "metadata": {},
   "source": [
    "The square operator multiplies by the dimension:"
   ]
  },
  {
   "cell_type": "code",
   "execution_count": 14,
   "metadata": {},
   "outputs": [
    {
     "name": "stdout",
     "output_type": "stream",
     "text": [
      "[[3]]\n",
      "\n",
      "[[3 0 0]\n",
      " [0 3 0]\n",
      " [0 0 3]]\n",
      "\n",
      "[[3 0 0 0 0 0 0 0 0]\n",
      " [0 3 0 0 0 0 0 0 0]\n",
      " [0 0 3 0 0 0 0 0 0]\n",
      " [0 0 0 3 0 0 0 0 0]\n",
      " [0 0 0 0 3 0 0 0 0]\n",
      " [0 0 0 0 0 3 0 0 0]\n",
      " [0 0 0 0 0 0 3 0 0]\n",
      " [0 0 0 0 0 0 0 3 0]\n",
      " [0 0 0 0 0 0 0 0 3]]\n",
      "\n"
     ]
    }
   ],
   "source": [
    "iprint((Tr @ Cotr)(0))\n",
    "iprint((Tr @ Cotr)(1))\n",
    "iprint((Tr @ Cotr)(2))"
   ]
  },
  {
   "cell_type": "markdown",
   "metadata": {},
   "source": [
    "We can also use the trace to get the spin-0 element of a vector:"
   ]
  },
  {
   "cell_type": "code",
   "execution_count": 15,
   "metadata": {},
   "outputs": [
    {
     "data": {
      "text/plain": [
       "array([[0., 1., 0.]])"
      ]
     },
     "execution_count": 15,
     "metadata": {},
     "output_type": "execute_result"
    }
   ],
   "source": [
    "Trace(0)(1)"
   ]
  },
  {
   "cell_type": "markdown",
   "metadata": {},
   "source": [
    "Same for a tensor:"
   ]
  },
  {
   "cell_type": "code",
   "execution_count": 16,
   "metadata": {},
   "outputs": [
    {
     "data": {
      "text/plain": [
       "array([[0., 0., 0., 0., 1., 0., 0., 0., 0.]])"
      ]
     },
     "execution_count": 16,
     "metadata": {},
     "output_type": "execute_result"
    }
   ],
   "source": [
    "(Trace(0) @ Trace(1))(2)"
   ]
  },
  {
   "cell_type": "markdown",
   "metadata": {},
   "source": [
    "Or to project out the angular trace:"
   ]
  },
  {
   "cell_type": "code",
   "execution_count": 17,
   "metadata": {},
   "outputs": [
    {
     "data": {
      "text/plain": [
       "array([[0., 0., 1., 0., 0., 0., 1., 0., 0.]])"
      ]
     },
     "execution_count": 17,
     "metadata": {},
     "output_type": "execute_result"
    }
   ],
   "source": [
    "(Trace((0,1)) - Trace(0) @ Trace(1))(2)"
   ]
  },
  {
   "cell_type": "markdown",
   "metadata": {},
   "source": [
    "This projects out the radial part of a vector:"
   ]
  },
  {
   "cell_type": "code",
   "execution_count": 18,
   "metadata": {},
   "outputs": [
    {
     "data": {
      "text/plain": [
       "array([[1., 0., 0.],\n",
       "       [0., 0., 0.],\n",
       "       [0., 0., 1.]])"
      ]
     },
     "execution_count": 18,
     "metadata": {},
     "output_type": "execute_result"
    }
   ],
   "source": [
    "(Trace(()) - (Trace(0).T) @ Trace(0))(1)"
   ]
  },
  {
   "cell_type": "markdown",
   "metadata": {},
   "source": [
    "BTW:"
   ]
  },
  {
   "cell_type": "markdown",
   "metadata": {},
   "source": [
    "We can do some pretty crazy things:"
   ]
  },
  {
   "cell_type": "code",
   "execution_count": 19,
   "metadata": {},
   "outputs": [
    {
     "data": {
      "text/plain": [
       "array([[0., 0., 0., 0., 0., 0., 0., 0., 0., 0., 0., 0., 0., 0., 0., 0., 0., 0., 0., 0., 0., 0., 0., 0., 0., 0., 0.]])"
      ]
     },
     "execution_count": 19,
     "metadata": {},
     "output_type": "execute_result"
    }
   ],
   "source": [
    "(Trace((0,1,2)) -  Trace(0) @ ( Trace((0,1)) + Trace((0,2)) + Trace((1,2)) - 2 * Trace(0) @ Trace(0) ) ) (3)"
   ]
  },
  {
   "cell_type": "markdown",
   "metadata": {},
   "source": [
    "What about this?\n",
    "\n",
    "$$\\large\n",
    "\\text{S} \\, \\circ \\, T \\ = \\ T + T^{\\top} - \\frac{2}{d}\\, \\text{Tr}(T)\\, I \n",
    "$$"
   ]
  },
  {
   "cell_type": "code",
   "execution_count": 20,
   "metadata": {},
   "outputs": [
    {
     "name": "stdout",
     "output_type": "stream",
     "text": [
      "[[ 2.       0.       0.       0.       0.       0.       0.       0.       0.     ]\n",
      " [ 0.       1.       0.       1.       0.       0.       0.       0.       0.     ]\n",
      " [ 0.       0.       0.33333  0.      -0.66667  0.       0.33333  0.       0.     ]\n",
      " [ 0.       1.       0.       1.       0.       0.       0.       0.       0.     ]\n",
      " [ 0.       0.      -0.66667  0.       1.33333  0.      -0.66667  0.       0.     ]\n",
      " [ 0.       0.       0.       0.       0.       1.       0.       1.       0.     ]\n",
      " [ 0.       0.       0.33333  0.      -0.66667  0.       0.33333  0.       0.     ]\n",
      " [ 0.       0.       0.       0.       0.       1.       0.       1.       0.     ]\n",
      " [ 0.       0.       0.       0.       0.       0.       0.       0.       2.     ]]\n",
      "\n"
     ]
    }
   ],
   "source": [
    "S = I + T - (2/I.dimension)*Cotr @ Tr\n",
    "\n",
    "chop(S(2))"
   ]
  },
  {
   "cell_type": "code",
   "execution_count": 21,
   "metadata": {},
   "outputs": [
    {
     "name": "stdout",
     "output_type": "stream",
     "text": [
      "[[0. 0. 0. 0. 0. 0. 0. 0. 0.]]\n",
      "\n"
     ]
    }
   ],
   "source": [
    "chop((Tr @ S)(2))"
   ]
  },
  {
   "cell_type": "code",
   "execution_count": 22,
   "metadata": {},
   "outputs": [
    {
     "name": "stdout",
     "output_type": "stream",
     "text": [
      "[[0 0 0 0 0 0 0 0 0]\n",
      " [0 0 0 0 0 0 0 0 0]\n",
      " [0 0 1 0 1 0 1 0 0]\n",
      " [0 0 0 0 0 0 0 0 0]\n",
      " [0 0 1 0 1 0 1 0 0]\n",
      " [0 0 0 0 0 0 0 0 0]\n",
      " [0 0 1 0 1 0 1 0 0]\n",
      " [0 0 0 0 0 0 0 0 0]\n",
      " [0 0 0 0 0 0 0 0 0]]\n",
      "\n"
     ]
    }
   ],
   "source": [
    "Tr2 = Cotr @ Tr \n",
    "iprint(Tr2(2))"
   ]
  },
  {
   "cell_type": "markdown",
   "metadata": {},
   "source": [
    "Evaluation keeps track of the rank"
   ]
  },
  {
   "cell_type": "code",
   "execution_count": 23,
   "metadata": {},
   "outputs": [
    {
     "name": "stdout",
     "output_type": "stream",
     "text": [
      "[[0 0 0 0 0 0 0 0 0]\n",
      " [0 0 0 0 0 0 0 0 0]\n",
      " [0 0 0 0 0 0 0 0 0]\n",
      " [0 0 0 0 0 0 0 0 0]\n",
      " [0 0 0 0 0 0 0 0 0]\n",
      " [0 0 0 0 0 0 0 0 0]\n",
      " [0 0 0 0 0 0 0 0 0]\n",
      " [0 0 0 0 0 0 0 0 0]\n",
      " [0 0 0 0 0 0 0 0 0]]\n",
      "\n"
     ]
    }
   ],
   "source": [
    "iprint((Cotr @ Tr)(2) - Cotr(0) @ Tr(2))"
   ]
  },
  {
   "cell_type": "markdown",
   "metadata": {},
   "source": [
    "Same with acting against arrays"
   ]
  },
  {
   "cell_type": "markdown",
   "metadata": {},
   "source": [
    "What is the `Cotr @ Tr` operator?\n",
    "\n",
    "Here is the Metric"
   ]
  },
  {
   "cell_type": "code",
   "execution_count": 24,
   "metadata": {},
   "outputs": [
    {
     "name": "stdout",
     "output_type": "stream",
     "text": [
      "[[0 0 1]\n",
      " [0 1 0]\n",
      " [1 0 0]]\n",
      "\n",
      "[[0 0 0 0 0 0 0 0 1]\n",
      " [0 0 0 0 0 0 0 1 0]\n",
      " [0 0 0 0 0 0 1 0 0]\n",
      " [0 0 0 0 0 1 0 0 0]\n",
      " [0 0 0 0 1 0 0 0 0]\n",
      " [0 0 0 1 0 0 0 0 0]\n",
      " [0 0 1 0 0 0 0 0 0]\n",
      " [0 1 0 0 0 0 0 0 0]\n",
      " [1 0 0 0 0 0 0 0 0]]\n",
      "\n"
     ]
    }
   ],
   "source": [
    "iprint(M(1))\n",
    "iprint(M(2))"
   ]
  },
  {
   "cell_type": "code",
   "execution_count": 25,
   "metadata": {},
   "outputs": [
    {
     "name": "stdout",
     "output_type": "stream",
     "text": [
      "[[ 0  0 12]\n",
      " [ 0 12  0]\n",
      " [12  0  0]]\n",
      "\n",
      "[[ 0  0 12]\n",
      " [ 0 12  0]\n",
      " [12  0  0]]\n",
      "\n",
      "[[ 0  0 12]\n",
      " [ 0 12  0]\n",
      " [12  0  0]]\n",
      "\n",
      "\n"
     ]
    }
   ],
   "source": [
    "B = (Cotr @ Tr)(2) @ A\n",
    "iprint(M(1)*(Tr(2) @ A))\n",
    "iprint((Tr(2) @ A)*M(1))\n",
    "square(B)"
   ]
  },
  {
   "cell_type": "markdown",
   "metadata": {},
   "source": [
    "The `Cotr @ Tr` operator multiplies the trace times the metric identity."
   ]
  },
  {
   "cell_type": "markdown",
   "metadata": {},
   "source": [
    "We can interact with the spin elements directly:"
   ]
  },
  {
   "cell_type": "code",
   "execution_count": 26,
   "metadata": {},
   "outputs": [
    {
     "name": "stdout",
     "output_type": "stream",
     "text": [
      "1\n",
      "1\n",
      "0\n"
     ]
    }
   ],
   "source": [
    "print(T[(-1,+1),(+1,-1)])\n",
    "print(Tr[(),(+1,-1)])\n",
    "print(Tr[(),(+1,+1)])"
   ]
  },
  {
   "cell_type": "markdown",
   "metadata": {},
   "source": [
    "The tensor product depends on the spin basis element.\n",
    "\n",
    "Here is a spin e(1) acting on a rank-k field (scalar,vector,2-tensor):\n",
    "\n",
    "$$\\large\n",
    "e(1) \\otimes T \\quad \\text{as an abstract operator}\n",
    "$$"
   ]
  },
  {
   "cell_type": "code",
   "execution_count": 27,
   "metadata": {},
   "outputs": [
    {
     "name": "stdout",
     "output_type": "stream",
     "text": [
      "[[0]\n",
      " [0]\n",
      " [1]]\n",
      "\n",
      "[[0 0 0]\n",
      " [0 0 0]\n",
      " [0 0 0]\n",
      " [0 0 0]\n",
      " [0 0 0]\n",
      " [0 0 0]\n",
      " [1 0 0]\n",
      " [0 1 0]\n",
      " [0 0 1]]\n",
      "\n",
      "[[0 0 0 0 0 0 0 0 0]\n",
      " [0 0 0 0 0 0 0 0 0]\n",
      " [0 0 0 0 0 0 0 0 0]\n",
      " [0 0 0 0 0 0 0 0 0]\n",
      " [0 0 0 0 0 0 0 0 0]\n",
      " [0 0 0 0 0 0 0 0 0]\n",
      " [0 0 0 0 0 0 0 0 0]\n",
      " [0 0 0 0 0 0 0 0 0]\n",
      " [0 0 0 0 0 0 0 0 0]\n",
      " [0 0 0 0 0 0 0 0 0]\n",
      " [0 0 0 0 0 0 0 0 0]\n",
      " [0 0 0 0 0 0 0 0 0]\n",
      " [0 0 0 0 0 0 0 0 0]\n",
      " [0 0 0 0 0 0 0 0 0]\n",
      " [0 0 0 0 0 0 0 0 0]\n",
      " [0 0 0 0 0 0 0 0 0]\n",
      " [0 0 0 0 0 0 0 0 0]\n",
      " [0 0 0 0 0 0 0 0 0]\n",
      " [1 0 0 0 0 0 0 0 0]\n",
      " [0 1 0 0 0 0 0 0 0]\n",
      " [0 0 1 0 0 0 0 0 0]\n",
      " [0 0 0 1 0 0 0 0 0]\n",
      " [0 0 0 0 1 0 0 0 0]\n",
      " [0 0 0 0 0 1 0 0 0]\n",
      " [0 0 0 0 0 0 1 0 0]\n",
      " [0 0 0 0 0 0 0 1 0]\n",
      " [0 0 0 0 0 0 0 0 1]]\n",
      "\n"
     ]
    }
   ],
   "source": [
    "iprint(P(+1)(0))\n",
    "iprint(P(+1)(1))\n",
    "iprint(P(+1)(2))"
   ]
  },
  {
   "cell_type": "markdown",
   "metadata": {},
   "source": [
    "We can linearly combine tensor products over basis elements:"
   ]
  },
  {
   "cell_type": "code",
   "execution_count": 28,
   "metadata": {},
   "outputs": [
    {
     "name": "stdout",
     "output_type": "stream",
     "text": [
      "[[ 7]\n",
      " [ 3]\n",
      " [-2]]\n",
      "\n",
      "[[ 7  0  0]\n",
      " [ 0  7  0]\n",
      " [ 0  0  7]\n",
      " [ 3  0  0]\n",
      " [ 0  3  0]\n",
      " [ 0  0  3]\n",
      " [-2  0  0]\n",
      " [ 0 -2  0]\n",
      " [ 0  0 -2]]\n",
      "\n",
      "[[ 7  0  0  0  0  0  0  0  0]\n",
      " [ 0  7  0  0  0  0  0  0  0]\n",
      " [ 0  0  7  0  0  0  0  0  0]\n",
      " [ 0  0  0  7  0  0  0  0  0]\n",
      " [ 0  0  0  0  7  0  0  0  0]\n",
      " [ 0  0  0  0  0  7  0  0  0]\n",
      " [ 0  0  0  0  0  0  7  0  0]\n",
      " [ 0  0  0  0  0  0  0  7  0]\n",
      " [ 0  0  0  0  0  0  0  0  7]\n",
      " [ 3  0  0  0  0  0  0  0  0]\n",
      " [ 0  3  0  0  0  0  0  0  0]\n",
      " [ 0  0  3  0  0  0  0  0  0]\n",
      " [ 0  0  0  3  0  0  0  0  0]\n",
      " [ 0  0  0  0  3  0  0  0  0]\n",
      " [ 0  0  0  0  0  3  0  0  0]\n",
      " [ 0  0  0  0  0  0  3  0  0]\n",
      " [ 0  0  0  0  0  0  0  3  0]\n",
      " [ 0  0  0  0  0  0  0  0  3]\n",
      " [-2  0  0  0  0  0  0  0  0]\n",
      " [ 0 -2  0  0  0  0  0  0  0]\n",
      " [ 0  0 -2  0  0  0  0  0  0]\n",
      " [ 0  0  0 -2  0  0  0  0  0]\n",
      " [ 0  0  0  0 -2  0  0  0  0]\n",
      " [ 0  0  0  0  0 -2  0  0  0]\n",
      " [ 0  0  0  0  0  0 -2  0  0]\n",
      " [ 0  0  0  0  0  0  0 -2  0]\n",
      " [ 0  0  0  0  0  0  0  0 -2]]\n",
      "\n"
     ]
    }
   ],
   "source": [
    "S = 7*P(-1) + 3*P(0) - 2*P(1)\n",
    "\n",
    "iprint(S(0))\n",
    "iprint(S(1))\n",
    "iprint(S(2))"
   ]
  },
  {
   "cell_type": "markdown",
   "metadata": {},
   "source": [
    "We can see that `S` increases the rank of anything by one."
   ]
  },
  {
   "cell_type": "code",
   "execution_count": 29,
   "metadata": {},
   "outputs": [
    {
     "data": {
      "text/plain": [
       "(rank->rank+1)"
      ]
     },
     "execution_count": 29,
     "metadata": {},
     "output_type": "execute_result"
    }
   ],
   "source": [
    "S.codomain"
   ]
  },
  {
   "cell_type": "markdown",
   "metadata": {},
   "source": [
    "For any input with rank > 0 we can contract over the (0,1) indices with `Tr`\n",
    "\n",
    "$$\\large\n",
    "(7 e(-) + 3 e(0) - 2 e(+)) \\cdot T\n",
    "$$"
   ]
  },
  {
   "cell_type": "code",
   "execution_count": 30,
   "metadata": {},
   "outputs": [
    {
     "data": {
      "text/plain": [
       "(rank->rank-1)"
      ]
     },
     "execution_count": 30,
     "metadata": {},
     "output_type": "execute_result"
    }
   ],
   "source": [
    "(Tr @ S).codomain"
   ]
  },
  {
   "cell_type": "code",
   "execution_count": 31,
   "metadata": {},
   "outputs": [
    {
     "name": "stdout",
     "output_type": "stream",
     "text": [
      "[[-2  3  7]]\n",
      "\n",
      "[[-2  0  0  3  0  0  7  0  0]\n",
      " [ 0 -2  0  0  3  0  0  7  0]\n",
      " [ 0  0 -2  0  0  3  0  0  7]]\n",
      "\n"
     ]
    }
   ],
   "source": [
    "iprint((Tr @ S)(1))\n",
    "iprint((Tr @ S)(2))"
   ]
  },
  {
   "cell_type": "markdown",
   "metadata": {},
   "source": [
    "For 2 < rank we can contract twice:\n",
    "\n",
    "$$\\large\n",
    "\\text{Tr} \\left( (7 e(-) + 3 e(0) - 2 e(+)) \\cdot T \\right)\n",
    "$$"
   ]
  },
  {
   "cell_type": "code",
   "execution_count": 32,
   "metadata": {},
   "outputs": [
    {
     "name": "stdout",
     "output_type": "stream",
     "text": [
      "(rank->rank-3)\n",
      "[[ 0  0 -2  0 -2  0 -2  0  0  0  0  3  0  3  0  3  0  0  0  0  7  0  7  0  7  0  0]]\n",
      "\n"
     ]
    }
   ],
   "source": [
    "print((Tr @ Tr @ S).codomain)\n",
    "iprint((Tr @ Tr @ S)(3))"
   ]
  },
  {
   "cell_type": "markdown",
   "metadata": {},
   "source": [
    "In general we ca use different trace operators to contract over different indices:"
   ]
  },
  {
   "cell_type": "code",
   "execution_count": 33,
   "metadata": {},
   "outputs": [],
   "source": [
    "Tr = lambda i,j: Trace((i,j),indexing=spins)"
   ]
  },
  {
   "cell_type": "code",
   "execution_count": 34,
   "metadata": {},
   "outputs": [
    {
     "name": "stdout",
     "output_type": "stream",
     "text": [
      "[[ 0  0 -2  0 -2  0 -2  0  0  0  0  3  0  3  0  3  0  0  0  0  7  0  7  0  7  0  0]]\n",
      "\n",
      "[[ 0  0 -2  0  0  3  0  0  7  0 -2  0  0  3  0  0  7  0 -2  0  0  3  0  0  7  0  0]]\n",
      "\n",
      "[[ 0  0  0  0  0  0 -2  3  7  0  0  0 -2  3  7  0  0  0 -2  3  7  0  0  0  0  0  0]]\n",
      "\n",
      "[[ 0  0  0  0  0  0 -2  3  7  0  0  0 -2  3  7  0  0  0 -2  3  7  0  0  0  0  0  0]]\n",
      "\n",
      "[[ 0  0 -2  0 -2  0 -2  0  0  0  0  3  0  3  0  3  0  0  0  0  7  0  7  0  7  0  0]]\n",
      "\n",
      "[[ 0  0 -2  0  0  3  0  0  7  0 -2  0  0  3  0  0  7  0 -2  0  0  3  0  0  7  0  0]]\n",
      "\n"
     ]
    }
   ],
   "source": [
    "iprint((Tr(0,1) @ Tr(0,1) @ S)(3))\n",
    "iprint((Tr(0,1) @ Tr(0,2) @ S)(3))\n",
    "iprint((Tr(0,1) @ Tr(0,3) @ S)(3))\n",
    "iprint((Tr(0,1) @ Tr(1,2) @ S)(3))\n",
    "iprint((Tr(0,1) @ Tr(2,3) @ S)(3))\n",
    "iprint((Tr(0,1) @ Tr(1,3) @ S)(3))"
   ]
  },
  {
   "cell_type": "markdown",
   "metadata": {},
   "source": [
    "Thinking of $\\mathrm{V}$ as the tensor-product operator, and $T$ as the rank-3 tensor input, these matrices represent the following respective actions:"
   ]
  },
  {
   "cell_type": "markdown",
   "metadata": {},
   "source": [
    "$$\\large\n",
    "\\sum_{\\sigma,\\tau} \\mathrm{V}_{\\sigma}\\ T_{-\\sigma,\\,\\tau,\\,-\\tau}, \n",
    "\\quad \\sum_{\\sigma,\\tau} \\mathrm{V}_{\\sigma}\\ T_{\\tau,\\,-\\sigma,\\,-\\tau}, \\quad\n",
    "\\sum_{\\sigma,\\tau} \\mathrm{V}_{\\tau}\\ T_{\\sigma,\\,-\\sigma,\\,-\\tau}\n",
    "$$\n",
    "\n",
    "\n",
    "$$\\large\n",
    "\\sum_{\\sigma,\\tau} \\mathrm{V}_{\\tau}\\ T_{\\sigma,\\,-\\sigma,\\,-\\tau}, \\quad \\sum_{\\sigma,\\tau} \\mathrm{V}_{\\tau}\\ T_{\\sigma,\\,-\\tau,\\,-\\sigma},\\quad\n",
    "\\sum_{\\sigma,\\tau} \\mathrm{V}_{\\tau}\\ T_{-\\tau\\,\\,\\sigma,\\,-\\sigma}\n",
    "$$"
   ]
  },
  {
   "cell_type": "markdown",
   "metadata": {},
   "source": [
    "Because we can reverse the order of the sums:"
   ]
  },
  {
   "cell_type": "code",
   "execution_count": 35,
   "metadata": {},
   "outputs": [
    {
     "name": "stdout",
     "output_type": "stream",
     "text": [
      "[[0 0 0 0 0 0 0 0 0 0 0 0 0 0 0 0 0 0 0 0 0 0 0 0 0 0 0]]\n",
      "\n",
      "[[0 0 0 0 0 0 0 0 0 0 0 0 0 0 0 0 0 0 0 0 0 0 0 0 0 0 0]]\n",
      "\n",
      "[[0 0 0 0 0 0 0 0 0 0 0 0 0 0 0 0 0 0 0 0 0 0 0 0 0 0 0]]\n",
      "\n"
     ]
    }
   ],
   "source": [
    "rank = 3\n",
    "\n",
    "Z1 = Tr(0,1) @ (Tr(0,1)-Tr(2,3)) @ S\n",
    "Z2 = Tr(0,1) @ (Tr(0,2)-Tr(1,3)) @ S\n",
    "Z3 = Tr(0,1) @ (Tr(0,3)-Tr(1,2)) @ S\n",
    "iprint(Z1(rank))\n",
    "iprint(Z2(rank))\n",
    "iprint(Z3(rank))"
   ]
  },
  {
   "cell_type": "markdown",
   "metadata": {},
   "source": [
    "For rank-4;"
   ]
  },
  {
   "cell_type": "code",
   "execution_count": 36,
   "metadata": {},
   "outputs": [
    {
     "name": "stdout",
     "output_type": "stream",
     "text": [
      "[[0 0 0 0 0 0 0 0 0 0 0 0 0 0 0 0 0 0 0 0 0 0 0 0 0 0 0 0 0 0 0 0 0 0 0 0 0 0 0 0 0 0 0 0 0 0 0 0 0 0 0 0 0 0 0 0 0 0 0 0 0 0 0 0 0 0 0 0 0 0 0 0 0 0 0 0 0 0 0 0 0]\n",
      " [0 0 0 0 0 0 0 0 0 0 0 0 0 0 0 0 0 0 0 0 0 0 0 0 0 0 0 0 0 0 0 0 0 0 0 0 0 0 0 0 0 0 0 0 0 0 0 0 0 0 0 0 0 0 0 0 0 0 0 0 0 0 0 0 0 0 0 0 0 0 0 0 0 0 0 0 0 0 0 0 0]\n",
      " [0 0 0 0 0 0 0 0 0 0 0 0 0 0 0 0 0 0 0 0 0 0 0 0 0 0 0 0 0 0 0 0 0 0 0 0 0 0 0 0 0 0 0 0 0 0 0 0 0 0 0 0 0 0 0 0 0 0 0 0 0 0 0 0 0 0 0 0 0 0 0 0 0 0 0 0 0 0 0 0 0]]\n",
      "\n",
      "[[0 0 0 0 0 0 0 0 0 0 0 0 0 0 0 0 0 0 0 0 0 0 0 0 0 0 0 0 0 0 0 0 0 0 0 0 0 0 0 0 0 0 0 0 0 0 0 0 0 0 0 0 0 0 0 0 0 0 0 0 0 0 0 0 0 0 0 0 0 0 0 0 0 0 0 0 0 0 0 0 0]\n",
      " [0 0 0 0 0 0 0 0 0 0 0 0 0 0 0 0 0 0 0 0 0 0 0 0 0 0 0 0 0 0 0 0 0 0 0 0 0 0 0 0 0 0 0 0 0 0 0 0 0 0 0 0 0 0 0 0 0 0 0 0 0 0 0 0 0 0 0 0 0 0 0 0 0 0 0 0 0 0 0 0 0]\n",
      " [0 0 0 0 0 0 0 0 0 0 0 0 0 0 0 0 0 0 0 0 0 0 0 0 0 0 0 0 0 0 0 0 0 0 0 0 0 0 0 0 0 0 0 0 0 0 0 0 0 0 0 0 0 0 0 0 0 0 0 0 0 0 0 0 0 0 0 0 0 0 0 0 0 0 0 0 0 0 0 0 0]]\n",
      "\n",
      "[[0 0 0 0 0 0 0 0 0 0 0 0 0 0 0 0 0 0 0 0 0 0 0 0 0 0 0 0 0 0 0 0 0 0 0 0 0 0 0 0 0 0 0 0 0 0 0 0 0 0 0 0 0 0 0 0 0 0 0 0 0 0 0 0 0 0 0 0 0 0 0 0 0 0 0 0 0 0 0 0 0]\n",
      " [0 0 0 0 0 0 0 0 0 0 0 0 0 0 0 0 0 0 0 0 0 0 0 0 0 0 0 0 0 0 0 0 0 0 0 0 0 0 0 0 0 0 0 0 0 0 0 0 0 0 0 0 0 0 0 0 0 0 0 0 0 0 0 0 0 0 0 0 0 0 0 0 0 0 0 0 0 0 0 0 0]\n",
      " [0 0 0 0 0 0 0 0 0 0 0 0 0 0 0 0 0 0 0 0 0 0 0 0 0 0 0 0 0 0 0 0 0 0 0 0 0 0 0 0 0 0 0 0 0 0 0 0 0 0 0 0 0 0 0 0 0 0 0 0 0 0 0 0 0 0 0 0 0 0 0 0 0 0 0 0 0 0 0 0 0]]\n",
      "\n"
     ]
    }
   ],
   "source": [
    "rank = 4\n",
    "iprint(Z1(rank))\n",
    "iprint(Z2(rank))\n",
    "iprint(Z3(rank))"
   ]
  },
  {
   "cell_type": "markdown",
   "metadata": {},
   "source": [
    "Last we have the spin-to-regularity intertwiners."
   ]
  },
  {
   "cell_type": "markdown",
   "metadata": {},
   "source": [
    "For a sanity check, we get the right answer compared to the old version."
   ]
  },
  {
   "cell_type": "code",
   "execution_count": 37,
   "metadata": {},
   "outputs": [
    {
     "name": "stdout",
     "output_type": "stream",
     "text": [
      "True\n"
     ]
    }
   ],
   "source": [
    "from old_intertwiner import regularity2spinMap as old_Q\n",
    "\n",
    "max_rank = 3\n",
    "max_ell  = 10\n",
    "\n",
    "good = True\n",
    "for r in range(max_rank+1):\n",
    "    for l in range(max_ell+1):\n",
    "        for i in Q(l).range(2*r):\n",
    "            good = good and abs(old_Q(l,i[:r],i[r:]) - Q(l)[i[:r],i[r:]]) < Q(l).threshold\n",
    "print(good)"
   ]
  },
  {
   "cell_type": "markdown",
   "metadata": {},
   "source": [
    "For rank=1:"
   ]
  },
  {
   "cell_type": "code",
   "execution_count": 38,
   "metadata": {},
   "outputs": [
    {
     "name": "stdout",
     "output_type": "stream",
     "text": [
      "[[0. 0. 0.]\n",
      " [0. 0. 1.]\n",
      " [0. 0. 0.]]\n",
      "\n",
      "\n",
      "[[ 0.57735  0.70711 -0.40825]\n",
      " [ 0.57735  0.       0.8165 ]\n",
      " [-0.57735  0.70711  0.40825]]\n",
      "\n",
      "\n",
      "[[ 0.54772  0.70711 -0.44721]\n",
      " [ 0.63246  0.       0.7746 ]\n",
      " [-0.54772  0.70711  0.44721]]\n",
      "\n",
      "\n",
      "[[ 0.53452  0.70711 -0.46291]\n",
      " [ 0.65465  0.       0.75593]\n",
      " [-0.53452  0.70711  0.46291]]\n",
      "\n",
      "\n",
      "[[ 0.52705  0.70711 -0.4714 ]\n",
      " [ 0.66667  0.       0.74536]\n",
      " [-0.52705  0.70711  0.4714 ]]\n",
      "\n",
      "\n"
     ]
    }
   ],
   "source": [
    "for ell in range(5):\n",
    "    chop(Q(ell)(1))\n",
    "    print()"
   ]
  },
  {
   "cell_type": "markdown",
   "metadata": {},
   "source": [
    "Calling on rank=2:"
   ]
  },
  {
   "cell_type": "code",
   "execution_count": 39,
   "metadata": {},
   "outputs": [
    {
     "name": "stdout",
     "output_type": "stream",
     "text": [
      "[[ 0.       0.       0.       0.       0.       0.       0.       0.       0.     ]\n",
      " [ 0.       0.       0.       0.       0.       0.       0.       0.       0.     ]\n",
      " [ 0.       0.       0.57735  0.       0.       0.70711  0.       0.      -0.40825]\n",
      " [ 0.       0.       0.       0.       0.       0.       0.       0.       0.     ]\n",
      " [ 0.       0.       0.57735  0.       0.       0.       0.       0.       0.8165 ]\n",
      " [ 0.       0.       0.       0.       0.       0.       0.       0.       0.     ]\n",
      " [ 0.       0.       0.57735  0.       0.      -0.70711  0.       0.      -0.40825]\n",
      " [ 0.       0.       0.       0.       0.       0.       0.       0.       0.     ]\n",
      " [ 0.       0.       0.       0.       0.       0.       0.       0.       0.     ]]\n",
      "\n",
      "\n",
      "[[ 0.       0.       0.       0.       0.       0.       0.       0.       0.     ]\n",
      " [ 0.      -0.40825  0.3873   0.      -0.5      0.5      0.       0.28868 -0.31623]\n",
      " [ 0.       0.40825  0.3873   0.       0.5      0.5      0.      -0.28868 -0.31623]\n",
      " [ 0.       0.40825 -0.2582   0.       0.       0.       0.57735  0.57735 -0.31623]\n",
      " [ 0.       0.       0.5164   0.       0.       0.       0.57735  0.       0.63246]\n",
      " [ 0.       0.40825  0.2582   0.       0.       0.      -0.57735  0.57735  0.31623]\n",
      " [ 0.      -0.40825  0.3873   0.       0.5     -0.5      0.       0.28868 -0.31623]\n",
      " [ 0.      -0.40825 -0.3873   0.       0.5      0.5      0.       0.28868  0.31623]\n",
      " [ 0.       0.       0.       0.       0.       0.       0.       0.       0.     ]]\n",
      "\n",
      "\n",
      "[[ 0.44721  0.31623 -0.13801  0.54772  0.40825 -0.18257 -0.31623 -0.2582   0.11952]\n",
      " [ 0.31623 -0.22361  0.39036  0.3873  -0.28868  0.5164  -0.22361  0.18257 -0.33806]\n",
      " [-0.18257  0.3873   0.33806 -0.22361  0.5      0.44721  0.1291  -0.31623 -0.29277]\n",
      " [ 0.31623  0.44721 -0.29277  0.       0.       0.       0.44721  0.54772 -0.33806]\n",
      " [ 0.36515  0.       0.50709  0.       0.       0.       0.5164   0.       0.58554]\n",
      " [-0.31623  0.44721  0.29277  0.       0.       0.      -0.44721  0.54772  0.33806]\n",
      " [-0.18257 -0.3873   0.33806  0.22361  0.5     -0.44721  0.1291   0.31623 -0.29277]\n",
      " [-0.31623 -0.22361 -0.39036  0.3873   0.28868  0.5164   0.22361  0.18257  0.33806]\n",
      " [ 0.44721 -0.31623 -0.13801 -0.54772  0.40825  0.18257 -0.31623  0.2582   0.11952]]\n",
      "\n",
      "\n",
      "[[ 0.37796  0.34503 -0.17252  0.48795  0.45644 -0.23146 -0.30861 -0.29881  0.1543 ]\n",
      " [ 0.33806 -0.1543   0.38576  0.43644 -0.20412  0.51755 -0.27603  0.13363 -0.34503]\n",
      " [-0.20702  0.37796  0.31497 -0.26726  0.5      0.42258  0.16903 -0.32733 -0.28172]\n",
      " [ 0.33806  0.46291 -0.30861  0.       0.       0.       0.41404  0.53452 -0.34503]\n",
      " [ 0.41404  0.       0.50395  0.       0.       0.       0.50709  0.       0.56344]\n",
      " [-0.33806  0.46291  0.30861  0.       0.       0.      -0.41404  0.53452  0.34503]\n",
      " [-0.20702 -0.37796  0.31497  0.26726  0.5     -0.42258  0.16903  0.32733 -0.28172]\n",
      " [-0.33806 -0.1543  -0.38576  0.43644  0.20412  0.51755  0.27603  0.13363  0.34503]\n",
      " [ 0.37796 -0.34503 -0.17252 -0.48795  0.45644  0.23146 -0.30861  0.29881  0.1543 ]]\n",
      "\n",
      "\n"
     ]
    }
   ],
   "source": [
    "for ell in range(4):\n",
    "    chop(Q(ell)(2))\n",
    "    print()"
   ]
  },
  {
   "cell_type": "markdown",
   "metadata": {},
   "source": [
    "We can also index the elements directly:"
   ]
  },
  {
   "cell_type": "code",
   "execution_count": 40,
   "metadata": {},
   "outputs": [
    {
     "data": {
      "text/plain": [
       "0.7071067811865475"
      ]
     },
     "execution_count": 40,
     "metadata": {},
     "output_type": "execute_result"
    }
   ],
   "source": [
    "spin = 0\n",
    "regularity = 1\n",
    "\n",
    "Q(0)[spin,regularity]\n",
    "\n",
    "\n",
    "spin = (-1,1)\n",
    "regularity = (0,1)\n",
    "\n",
    "Q(0)[spin,regularity]"
   ]
  },
  {
   "cell_type": "markdown",
   "metadata": {},
   "source": [
    "We can see the operator is orthogonal"
   ]
  },
  {
   "cell_type": "code",
   "execution_count": 41,
   "metadata": {},
   "outputs": [
    {
     "name": "stdout",
     "output_type": "stream",
     "text": [
      "[[0. 0. 0.]\n",
      " [0. 0. 0.]\n",
      " [0. 0. 1.]]\n",
      "\n",
      "[[0. 0. 0.]\n",
      " [0. 1. 0.]\n",
      " [0. 0. 0.]]\n",
      "\n",
      "\n",
      "[[1. 0. 0.]\n",
      " [0. 1. 0.]\n",
      " [0. 0. 1.]]\n",
      "\n",
      "[[1. 0. 0.]\n",
      " [0. 1. 0.]\n",
      " [0. 0. 1.]]\n",
      "\n",
      "\n",
      "[[1. 0. 0.]\n",
      " [0. 1. 0.]\n",
      " [0. 0. 1.]]\n",
      "\n",
      "[[1. 0. 0.]\n",
      " [0. 1. 0.]\n",
      " [0. 0. 1.]]\n",
      "\n",
      "\n",
      "[[1. 0. 0.]\n",
      " [0. 1. 0.]\n",
      " [0. 0. 1.]]\n",
      "\n",
      "[[1. 0. 0.]\n",
      " [0. 1. 0.]\n",
      " [0. 0. 1.]]\n",
      "\n",
      "\n"
     ]
    }
   ],
   "source": [
    "for ell in range(4):\n",
    "\n",
    "    chop((Q(ell).T @ Q(ell))(1))\n",
    "\n",
    "    chop((Q(ell) @ Q(ell).T)(1))\n",
    "\n",
    "    print()"
   ]
  },
  {
   "cell_type": "code",
   "execution_count": 42,
   "metadata": {},
   "outputs": [
    {
     "name": "stdout",
     "output_type": "stream",
     "text": [
      "[[0. 0. 0. 0. 0. 0. 0. 0. 0.]\n",
      " [0. 0. 0. 0. 0. 0. 0. 0. 0.]\n",
      " [0. 0. 1. 0. 0. 0. 0. 0. 0.]\n",
      " [0. 0. 0. 0. 0. 0. 0. 0. 0.]\n",
      " [0. 0. 0. 0. 0. 0. 0. 0. 0.]\n",
      " [0. 0. 0. 0. 0. 1. 0. 0. 0.]\n",
      " [0. 0. 0. 0. 0. 0. 0. 0. 0.]\n",
      " [0. 0. 0. 0. 0. 0. 0. 0. 0.]\n",
      " [0. 0. 0. 0. 0. 0. 0. 0. 1.]]\n",
      "\n",
      "[[0. 0. 0. 0. 0. 0. 0. 0. 0.]\n",
      " [0. 0. 0. 0. 0. 0. 0. 0. 0.]\n",
      " [0. 0. 1. 0. 0. 0. 0. 0. 0.]\n",
      " [0. 0. 0. 0. 0. 0. 0. 0. 0.]\n",
      " [0. 0. 0. 0. 1. 0. 0. 0. 0.]\n",
      " [0. 0. 0. 0. 0. 0. 0. 0. 0.]\n",
      " [0. 0. 0. 0. 0. 0. 1. 0. 0.]\n",
      " [0. 0. 0. 0. 0. 0. 0. 0. 0.]\n",
      " [0. 0. 0. 0. 0. 0. 0. 0. 0.]]\n",
      "\n",
      "\n",
      "[[0. 0. 0. 0. 0. 0. 0. 0. 0.]\n",
      " [0. 1. 0. 0. 0. 0. 0. 0. 0.]\n",
      " [0. 0. 1. 0. 0. 0. 0. 0. 0.]\n",
      " [0. 0. 0. 0. 0. 0. 0. 0. 0.]\n",
      " [0. 0. 0. 0. 1. 0. 0. 0. 0.]\n",
      " [0. 0. 0. 0. 0. 1. 0. 0. 0.]\n",
      " [0. 0. 0. 0. 0. 0. 1. 0. 0.]\n",
      " [0. 0. 0. 0. 0. 0. 0. 1. 0.]\n",
      " [0. 0. 0. 0. 0. 0. 0. 0. 1.]]\n",
      "\n",
      "[[0. 0. 0. 0. 0. 0. 0. 0. 0.]\n",
      " [0. 1. 0. 0. 0. 0. 0. 0. 0.]\n",
      " [0. 0. 1. 0. 0. 0. 0. 0. 0.]\n",
      " [0. 0. 0. 1. 0. 0. 0. 0. 0.]\n",
      " [0. 0. 0. 0. 1. 0. 0. 0. 0.]\n",
      " [0. 0. 0. 0. 0. 1. 0. 0. 0.]\n",
      " [0. 0. 0. 0. 0. 0. 1. 0. 0.]\n",
      " [0. 0. 0. 0. 0. 0. 0. 1. 0.]\n",
      " [0. 0. 0. 0. 0. 0. 0. 0. 0.]]\n",
      "\n",
      "\n",
      "[[1. 0. 0. 0. 0. 0. 0. 0. 0.]\n",
      " [0. 1. 0. 0. 0. 0. 0. 0. 0.]\n",
      " [0. 0. 1. 0. 0. 0. 0. 0. 0.]\n",
      " [0. 0. 0. 1. 0. 0. 0. 0. 0.]\n",
      " [0. 0. 0. 0. 1. 0. 0. 0. 0.]\n",
      " [0. 0. 0. 0. 0. 1. 0. 0. 0.]\n",
      " [0. 0. 0. 0. 0. 0. 1. 0. 0.]\n",
      " [0. 0. 0. 0. 0. 0. 0. 1. 0.]\n",
      " [0. 0. 0. 0. 0. 0. 0. 0. 1.]]\n",
      "\n",
      "[[1. 0. 0. 0. 0. 0. 0. 0. 0.]\n",
      " [0. 1. 0. 0. 0. 0. 0. 0. 0.]\n",
      " [0. 0. 1. 0. 0. 0. 0. 0. 0.]\n",
      " [0. 0. 0. 1. 0. 0. 0. 0. 0.]\n",
      " [0. 0. 0. 0. 1. 0. 0. 0. 0.]\n",
      " [0. 0. 0. 0. 0. 1. 0. 0. 0.]\n",
      " [0. 0. 0. 0. 0. 0. 1. 0. 0.]\n",
      " [0. 0. 0. 0. 0. 0. 0. 1. 0.]\n",
      " [0. 0. 0. 0. 0. 0. 0. 0. 1.]]\n",
      "\n",
      "\n"
     ]
    }
   ],
   "source": [
    "for ell in range(3):\n",
    "\n",
    "    chop((Q(ell).T @ Q(ell))(2))\n",
    "\n",
    "    chop((Q(ell) @ Q(ell).T)(2))\n",
    "\n",
    "    print()\n"
   ]
  },
  {
   "cell_type": "markdown",
   "metadata": {},
   "source": [
    "We can build regularity-space operators out of the spin representations\n",
    "\n",
    "For the metric:"
   ]
  },
  {
   "cell_type": "code",
   "execution_count": 43,
   "metadata": {},
   "outputs": [
    {
     "name": "stdout",
     "output_type": "stream",
     "text": [
      "[[0. 0. 0.]\n",
      " [0. 0. 0.]\n",
      " [0. 0. 1.]]\n",
      "\n",
      "[[-0.33333  0.       0.94281]\n",
      " [ 0.       1.       0.     ]\n",
      " [ 0.94281  0.       0.33333]]\n",
      "\n",
      "[[-0.2     0.      0.9798]\n",
      " [ 0.      1.      0.    ]\n",
      " [ 0.9798  0.      0.2   ]]\n",
      "\n",
      "[[-0.14286  0.       0.98974]\n",
      " [ 0.       1.       0.     ]\n",
      " [ 0.98974  0.       0.14286]]\n",
      "\n"
     ]
    }
   ],
   "source": [
    "for ell in range(4):\n",
    "    chop((Q(ell).T @ M @ Q(ell))(1))"
   ]
  },
  {
   "cell_type": "markdown",
   "metadata": {},
   "source": [
    "For the trace:"
   ]
  },
  {
   "cell_type": "code",
   "execution_count": 44,
   "metadata": {},
   "outputs": [
    {
     "name": "stdout",
     "output_type": "stream",
     "text": [
      "[[0.      0.      1.73205]\n",
      " [0.      0.      0.     ]\n",
      " [0.      0.      0.     ]]\n",
      "\n",
      "[[0.      0.      1.29099]\n",
      " [0.      1.      0.     ]\n",
      " [0.57735 0.      0.     ]]\n",
      "\n",
      "[[0.      0.      1.18322]\n",
      " [0.      1.      0.     ]\n",
      " [0.7746  0.      0.     ]]\n",
      "\n",
      "[[0.      0.      1.13389]\n",
      " [0.      1.      0.     ]\n",
      " [0.84515 0.      0.     ]]\n",
      "\n"
     ]
    }
   ],
   "source": [
    "TRACE = np.zeros((3,3))\n",
    "for ell in range(4):\n",
    "    for i,a in enumerate((-1,0,1)):\n",
    "        for j,b in enumerate((-1,0,1)):\n",
    "            TRACE[i,j] = (Q(ell).T @ Tr(0,1) @ Q(ell))[(),(a,b)]\n",
    "    chop(TRACE)"
   ]
  },
  {
   "cell_type": "markdown",
   "metadata": {},
   "source": [
    "This should be:\n",
    "$$\n",
    "\\left[\n",
    "\\begin{array}{ccc}\n",
    " 0 & 0 & \\frac{\\sqrt{2 \\ell +3}}{\\sqrt{2 \\ell +1}} \\\\\n",
    " 0 & 1 & 0 \\\\\n",
    " \\frac{\\sqrt{2 \\ell -1}}{\\sqrt{2 \\ell +1}} & 0 & 0 \\\\\n",
    "\\end{array}\n",
    "\\right]\n",
    "$$"
   ]
  },
  {
   "cell_type": "code",
   "execution_count": 45,
   "metadata": {},
   "outputs": [
    {
     "name": "stdout",
     "output_type": "stream",
     "text": [
      "0.5773502691896257 1 1.2909944487358056\n",
      "0.7745966692414834 1 1.1832159566199232\n",
      "0.8451542547285166 1 1.1338934190276817\n"
     ]
    }
   ],
   "source": [
    "for ell in range(1,4):\n",
    "    print(np.sqrt((2*ell-1)/(2*ell+1)),1,np.sqrt((2*ell+3)/(2*ell+1)))"
   ]
  },
  {
   "cell_type": "markdown",
   "metadata": {},
   "source": [
    "For the transpose:"
   ]
  },
  {
   "cell_type": "code",
   "execution_count": 46,
   "metadata": {},
   "outputs": [
    {
     "name": "stdout",
     "output_type": "stream",
     "text": [
      "[[ 1.       0.       0.       0.       0.       0.       0.       0.       0.     ]\n",
      " [ 0.      -0.33333  0.       0.94281  0.       0.       0.       0.       0.     ]\n",
      " [ 0.       0.       0.03571  0.       0.28347  0.       0.95831  0.       0.     ]\n",
      " [ 0.       0.94281  0.       0.33333  0.       0.       0.       0.       0.     ]\n",
      " [ 0.       0.       0.28347  0.       0.91667  0.      -0.28172  0.       0.     ]\n",
      " [ 0.       0.       0.       0.       0.      -0.25     0.       0.96825  0.     ]\n",
      " [ 0.       0.       0.95831  0.      -0.28172  0.       0.04762  0.       0.     ]\n",
      " [ 0.       0.       0.       0.       0.       0.96825  0.       0.25     0.     ]\n",
      " [ 0.       0.       0.       0.       0.       0.       0.       0.       1.     ]]\n",
      "\n"
     ]
    }
   ],
   "source": [
    "ell = 3\n",
    "chop((Q(ell).T @ T @ Q(ell))(2))"
   ]
  },
  {
   "cell_type": "code",
   "execution_count": 47,
   "metadata": {},
   "outputs": [
    {
     "name": "stdout",
     "output_type": "stream",
     "text": [
      "[[1. 0. 0.]\n",
      " [0. 0. 0.]\n",
      " [0. 0. 0.]]\n",
      "\n",
      "[[ 0.16667  0.6455   0.74536]\n",
      " [ 0.6455   0.5     -0.57735]\n",
      " [ 0.74536 -0.57735  0.33333]]\n",
      "\n",
      "[[ 0.06667  0.39441  0.91652]\n",
      " [ 0.39441  0.83333 -0.3873 ]\n",
      " [ 0.91652 -0.3873   0.1    ]]\n",
      "\n",
      "[[ 0.03571  0.28347  0.95831]\n",
      " [ 0.28347  0.91667 -0.28172]\n",
      " [ 0.95831 -0.28172  0.04762]]\n",
      "\n"
     ]
    }
   ],
   "source": [
    "reg0 = ((-1,+1),(0,0),(+1,-1))\n",
    "\n",
    "DAG = np.zeros((3,3))\n",
    "for ell in range(4):\n",
    "    for i,a in enumerate(reg0):\n",
    "        for j,b in enumerate(reg0):\n",
    "            DAG[i,j] = (Q(ell).T @ T @ Q(ell))[a,b]\n",
    "    chop(DAG)"
   ]
  },
  {
   "cell_type": "markdown",
   "metadata": {},
   "source": [
    "This should be:\n",
    "\n",
    "$$\n",
    "\\left[\n",
    "\\begin{array}{ccc}\n",
    " \\frac{1}{(\\ell +1) (2 \\ell +1)} & \\frac{\\sqrt{2 \\ell\n",
    "   +3}}{(\\ell +1) \\sqrt{2 \\ell +1}} & \\frac{\\sqrt{(2\n",
    "   \\ell -1) (2 \\ell +3)}}{2 \\ell +1} \\\\\n",
    " \\frac{\\sqrt{2 \\ell +3}}{(\\ell +1) \\sqrt{2 \\ell +1}} &\n",
    "   1-\\frac{1}{\\ell  (\\ell +1)} & -\\frac{\\sqrt{2 \\ell\n",
    "   -1}}{\\ell  \\sqrt{2 \\ell +1}} \\\\\n",
    " \\frac{\\sqrt{(2 \\ell -1) (2 \\ell +3)}}{2 \\ell +1} &\n",
    "   -\\frac{\\sqrt{2 \\ell -1}}{\\ell  \\sqrt{2 \\ell +1}} &\n",
    "   \\frac{1}{\\ell  (2 \\ell +1)} \\\\\n",
    "\\end{array}\n",
    "\\right]\n",
    "$$\n",
    "\n",
    "\n",
    "<br>"
   ]
  },
  {
   "cell_type": "markdown",
   "metadata": {},
   "source": [
    "Here's how we can build up NCC operators in regularity space. \n",
    "\n",
    "For one example:"
   ]
  },
  {
   "cell_type": "code",
   "execution_count": 48,
   "metadata": {},
   "outputs": [],
   "source": [
    "NCC = lambda l, a: Q(l).T @ sum( Q(0)[e,a] * Trace((len(e)-1,len(e))) @ P(e) for e in Q(0).range(len(a))) @ Q(l)"
   ]
  },
  {
   "cell_type": "markdown",
   "metadata": {},
   "source": [
    "Here are the three non-zero regularity coupling matrices that compute matrix multiplication operators"
   ]
  },
  {
   "cell_type": "code",
   "execution_count": 49,
   "metadata": {},
   "outputs": [
    {
     "name": "stdout",
     "output_type": "stream",
     "text": [
      "[[0.57735 0.      0.     ]\n",
      " [0.      0.57735 0.     ]\n",
      " [0.      0.      0.57735]]\n",
      "\n",
      "[[ 0.       0.51177  0.     ]\n",
      " [ 0.51177  0.      -0.48795]\n",
      " [ 0.      -0.48795  0.     ]]\n",
      "\n",
      "[[ 0.17496  0.       0.61168]\n",
      " [ 0.      -0.40825  0.     ]\n",
      " [ 0.61168  0.       0.23328]]\n",
      "\n"
     ]
    }
   ],
   "source": [
    "ell = 10\n",
    "\n",
    "for a in ((-1,1),(0,1),(1,1)):\n",
    "    print(NCC(ell,a)(1))\n",
    "    print()"
   ]
  },
  {
   "cell_type": "markdown",
   "metadata": {},
   "source": [
    "The others vanish"
   ]
  },
  {
   "cell_type": "code",
   "execution_count": 50,
   "metadata": {},
   "outputs": [
    {
     "name": "stdout",
     "output_type": "stream",
     "text": [
      "[[0. 0. 0.]\n",
      " [0. 0. 0.]\n",
      " [0. 0. 0.]]\n",
      "\n",
      "[[0. 0. 0.]\n",
      " [0. 0. 0.]\n",
      " [0. 0. 0.]]\n",
      "\n",
      "[[0. 0. 0.]\n",
      " [0. 0. 0.]\n",
      " [0. 0. 0.]]\n",
      "\n",
      "[[0. 0. 0.]\n",
      " [0. 0. 0.]\n",
      " [0. 0. 0.]]\n",
      "\n",
      "[[0. 0. 0.]\n",
      " [0. 0. 0.]\n",
      " [0. 0. 0.]]\n",
      "\n",
      "[[0. 0. 0.]\n",
      " [0. 0. 0.]\n",
      " [0. 0. 0.]]\n",
      "\n"
     ]
    }
   ],
   "source": [
    "for s in (-1,0,1):\n",
    "    print(NCC(ell,(s,-1))(1))\n",
    "    print()\n",
    "    print(NCC(ell,(s,0))(1))\n",
    "    print()"
   ]
  },
  {
   "cell_type": "markdown",
   "metadata": {},
   "source": [
    "We can check the selection rules:"
   ]
  },
  {
   "cell_type": "code",
   "execution_count": 51,
   "metadata": {},
   "outputs": [
    {
     "name": "stdout",
     "output_type": "stream",
     "text": [
      "\n",
      "\n",
      "rank: 1\n",
      " _   _   _     _     _    _  \n",
      " a   b   c  :  a - | b -  c |\n",
      "--- --- ---   ----------------\n",
      " 1,  0, -1  :  0\n",
      " 1,  0,  1  :  0\n",
      "\n",
      "\n",
      "rank: 2\n",
      " _   _   _     _     _    _  \n",
      " a   b   c  :  a - | b -  c |\n",
      "--- --- ---   ----------------\n",
      " 0, -1, -1  :  0\n",
      " 0,  0,  0  :  0\n",
      " 0,  1,  1  :  0\n",
      " 1, -1,  0  :  0\n",
      " 1,  0, -1  :  0\n",
      " 1,  0,  1  :  0\n",
      " 1,  1,  0  :  0\n",
      " 2, -1, -1  :  2\n",
      " 2, -1,  1  :  0\n",
      " 2,  0,  0  :  2\n",
      " 2,  1, -1  :  0\n",
      " 2,  1,  1  :  2\n",
      "\n",
      "\n",
      "rank: 3\n",
      " _   _   _     _     _    _  \n",
      " a   b   c  :  a - | b -  c |\n",
      "--- --- ---   ----------------\n",
      " 0, -1, -1  :  0\n",
      " 0,  0,  0  :  0\n",
      " 0, -1, -1  :  0\n",
      " 0,  0,  0  :  0\n",
      " 0,  1,  1  :  0\n",
      " 0,  0,  0  :  0\n",
      " 0,  1,  1  :  0\n",
      " 1, -2, -1  :  0\n",
      " 1, -1,  0  :  0\n",
      " 1,  0, -1  :  0\n",
      " 1,  0,  1  :  0\n",
      " 1, -1,  0  :  0\n",
      " 1,  0, -1  :  0\n",
      " 1,  0,  1  :  0\n",
      " 1,  1,  0  :  0\n",
      " 1,  0, -1  :  0\n",
      " 1,  0,  1  :  0\n",
      " 1,  1,  0  :  0\n",
      " 1,  2,  1  :  0\n",
      " 1, -2, -1  :  0\n",
      " 1, -1,  0  :  0\n",
      " 1,  0,  1  :  0\n",
      " 1, -1,  0  :  0\n",
      " 1,  0, -1  :  0\n",
      " 1,  0,  1  :  0\n",
      " 1,  1,  0  :  0\n",
      " 1,  0, -1  :  0\n",
      " 1,  1,  0  :  0\n",
      " 1,  2,  1  :  0\n",
      " 2, -2,  0  :  0\n",
      " 2, -1, -1  :  2\n",
      " 2, -1,  1  :  0\n",
      " 2,  0,  0  :  2\n",
      " 2, -1, -1  :  2\n",
      " 2, -1,  1  :  0\n",
      " 2,  0,  0  :  2\n",
      " 2,  1, -1  :  0\n",
      " 2,  1,  1  :  2\n",
      " 2,  0,  0  :  2\n",
      " 2,  1, -1  :  0\n",
      " 2,  1,  1  :  2\n",
      " 2,  2,  0  :  0\n",
      " 1, -2, -1  :  0\n",
      " 1, -1,  0  :  0\n",
      " 1,  0,  1  :  0\n",
      " 1,  0, -1  :  0\n",
      " 1,  1,  0  :  0\n",
      " 1,  2,  1  :  0\n",
      " 2, -2,  0  :  0\n",
      " 2, -1, -1  :  2\n",
      " 2, -1,  1  :  0\n",
      " 2,  0,  0  :  2\n",
      " 2, -1, -1  :  2\n",
      " 2,  0,  0  :  2\n",
      " 2,  1,  1  :  2\n",
      " 2,  0,  0  :  2\n",
      " 2,  1, -1  :  0\n",
      " 2,  1,  1  :  2\n",
      " 2,  2,  0  :  0\n",
      " 3, -2, -1  :  2\n",
      " 3, -2,  1  :  0\n",
      " 3, -1,  0  :  2\n",
      " 3,  0, -1  :  2\n",
      " 3,  0,  1  :  2\n",
      " 3, -1,  0  :  2\n",
      " 3,  0, -1  :  2\n",
      " 3,  0,  1  :  2\n",
      " 3,  1,  0  :  2\n",
      " 3,  0, -1  :  2\n",
      " 3,  0,  1  :  2\n",
      " 3,  1,  0  :  2\n",
      " 3,  2, -1  :  0\n",
      " 3,  2,  1  :  2\n"
     ]
    }
   ],
   "source": [
    "for rank in (1,2,3):\n",
    "    \n",
    "    print()\n",
    "    print()\n",
    "    print('rank:',rank)\n",
    "\n",
    "    print(' _   _   _     _     _    _  ')\n",
    "    print(' a   b   c  :  a - | b -  c |')\n",
    "    print('--- --- ---   ----------------')\n",
    "    for a in Q(0).range(rank):\n",
    "        if not Q(0).forbidden_regularity(a):\n",
    "            for b in NCC(ell,a).range(rank-1):\n",
    "                for c in NCC(ell,a).range(1):\n",
    "                    if NCC(ell,a)[b,c] != 0:\n",
    "                        rule = sum(a) - abs(sum(b)-sum(c))\n",
    "                        print(f'{sum(a):>2}, {sum(b):>2}, {sum(c):>2}  :  {rule}')"
   ]
  },
  {
   "cell_type": "code",
   "execution_count": null,
   "metadata": {},
   "outputs": [],
   "source": []
  }
 ],
 "metadata": {
  "kernelspec": {
   "display_name": "Python 3",
   "language": "python",
   "name": "python3"
  },
  "language_info": {
   "codemirror_mode": {
    "name": "ipython",
    "version": 3
   },
   "file_extension": ".py",
   "mimetype": "text/x-python",
   "name": "python",
   "nbconvert_exporter": "python",
   "pygments_lexer": "ipython3",
   "version": "3.8.2"
  }
 },
 "nbformat": 4,
 "nbformat_minor": 4
}

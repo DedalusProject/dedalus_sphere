{
 "cells": [
  {
   "cell_type": "code",
   "execution_count": null,
   "metadata": {},
   "outputs": [],
   "source": [
    "import dedalus_sphere.zernike as Zernike\n",
    "\n",
    "import numpy as np\n",
    "import matplotlib.pyplot as plt\n",
    "%matplotlib inline\n",
    "\n",
    "np.set_printoptions(precision=3,suppress=True)\n",
    "\n",
    "def chop(X,eps=1e-9):\n",
    "    M = np.copy(X)\n",
    "    w = np.where(np.abs(X) < eps)\n",
    "    M[w] = 0\n",
    "    print(M)\n",
    "    print()\n",
    "\n",
    "def good(X,nkl):\n",
    "    print(np.max(np.abs(X(*nkl).A)) < 1e-10)\n",
    "    print()    "
   ]
  },
  {
   "cell_type": "code",
   "execution_count": null,
   "metadata": {},
   "outputs": [],
   "source": [
    "d,n,k = 3,100,0\n",
    "z,w = Zernike.quadrature(d,n)\n",
    "\n",
    "print(np.sum(w))\n",
    "\n",
    "r = np.sqrt((1+z)/2)"
   ]
  },
  {
   "cell_type": "code",
   "execution_count": null,
   "metadata": {},
   "outputs": [],
   "source": [
    "ell = 5\n",
    "Q = Zernike.polynomials(d,n-ell//2,k,ell,z)\n",
    "\n",
    "plt.plot(r,Q[5])"
   ]
  },
  {
   "cell_type": "code",
   "execution_count": null,
   "metadata": {},
   "outputs": [],
   "source": [
    "chop(Q @ np.diag(w) @ Q.T)"
   ]
  },
  {
   "cell_type": "code",
   "execution_count": null,
   "metadata": {},
   "outputs": [],
   "source": [
    "dim = 3\n",
    "\n",
    "nkl = n,k,l = 10,1,1\n",
    "\n",
    "D = Zernike.operator(dim,'D')\n",
    "R = Zernike.operator(dim,'R')\n",
    "E = Zernike.operator(dim,'E')\n",
    "\n",
    "\n",
    "z,w = Zernike.quadrature(dim,n,k)\n",
    "\n",
    "r = np.sqrt((1+z)/2)\n",
    "\n",
    "Q = lambda dn,dk,dl : Zernike.polynomials(dim,n+dn,k+dk,l+dl,z).T\n",
    "d = lambda Op: Op.codomain[:3]\n",
    "Right = lambda Op: Op(*nkl)\n",
    "Left  = np.diag\n",
    "\n",
    "err = lambda thing: print(np.max(np.abs(thing)) < 1e-10)\n",
    "\n",
    "\n",
    "err(      Left(r) @ Q(0,0,0) -  Q( *d( R(-1) )) @ Right( R(-1) ) )\n",
    "err(      Left(r) @ Q(0,0,0) -  Q( *d( R(+1) )) @ Right( R(+1) ) )\n",
    "err(                Q(0,0,0) -  Q( *d( E(+1) )) @ Right( E(+1) ) )\n",
    "err( Left(1-r**2) @ Q(0,0,0) -  Q( *d( E(-1) )) @ Right( E(-1) ) )"
   ]
  },
  {
   "cell_type": "code",
   "execution_count": null,
   "metadata": {},
   "outputs": [],
   "source": [
    "nkl = n,k,ell = 10,1,3\n",
    "\n",
    "chop( ( E(-1) @ E(+1)  + R(-1) @ R(+1) )(n,k,l).A )\n",
    "\n",
    "good( R(-1) * D(+1) + 2*E(+1) , nkl)\n",
    "good( R(+1) * D(-1) + 2*E(+1) , nkl)\n",
    "\n",
    "good( E(-1) * D(-1) - 2*R(-1) ,nkl)\n",
    "\n",
    "good( E(-1) * D(+1) - 2*R(+1) ,nkl)\n",
    "\n",
    "good( E(+1) * D(+1) ,nkl)\n",
    "\n",
    "good( D(-1) * D(+1) ,nkl)\n",
    "\n",
    "good( R(-1) * R(+1) ,nkl)\n",
    "\n",
    "good( R(+1) * D(+1) ,nkl)\n",
    "\n",
    "good( R(-1) * D(-1) ,nkl)"
   ]
  },
  {
   "cell_type": "code",
   "execution_count": null,
   "metadata": {},
   "outputs": [],
   "source": []
  }
 ],
 "metadata": {
  "kernelspec": {
   "display_name": "Python 3",
   "language": "python",
   "name": "python3"
  },
  "language_info": {
   "codemirror_mode": {
    "name": "ipython",
    "version": 3
   },
   "file_extension": ".py",
   "mimetype": "text/x-python",
   "name": "python",
   "nbconvert_exporter": "python",
   "pygments_lexer": "ipython3",
   "version": "3.8.2"
  }
 },
 "nbformat": 4,
 "nbformat_minor": 4
}

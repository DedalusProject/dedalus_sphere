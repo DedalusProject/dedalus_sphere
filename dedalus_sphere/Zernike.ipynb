{
 "cells": [
  {
   "cell_type": "code",
   "execution_count": null,
   "metadata": {},
   "outputs": [],
   "source": [
    "import zernike as Zernike\n",
    "\n",
    "import jacobi  as Jacobi\n",
    "\n",
    "import numpy as np\n",
    "import matplotlib.pyplot as plt\n",
    "%matplotlib inline\n",
    "\n",
    "np.set_printoptions(precision=3,suppress=True)\n",
    "\n",
    "def chop(X,eps=1e-9):\n",
    "    M = np.copy(X)\n",
    "    w = np.where(np.abs(X) < eps)\n",
    "    M[w] = 0\n",
    "    print(M)\n",
    "    print()\n",
    "    "
   ]
  },
  {
   "cell_type": "code",
   "execution_count": null,
   "metadata": {},
   "outputs": [],
   "source": [
    "d,n,k =3,10,0\n",
    "z,w = Zernike.quadrature(d,n,k)\n",
    "\n",
    "print(np.sum(w))\n",
    "\n",
    "r = np.sqrt((1+z)/2)"
   ]
  },
  {
   "cell_type": "code",
   "execution_count": null,
   "metadata": {},
   "outputs": [],
   "source": [
    "ell = 3\n",
    "Q = Zernike.polynomials(d,n-ell//2,k,ell,z)"
   ]
  },
  {
   "cell_type": "code",
   "execution_count": null,
   "metadata": {},
   "outputs": [],
   "source": [
    "plt.plot(r,Q[4])"
   ]
  },
  {
   "cell_type": "code",
   "execution_count": null,
   "metadata": {},
   "outputs": [],
   "source": [
    "chop(Q @ np.diag(w) @ Q.T)"
   ]
  },
  {
   "cell_type": "code",
   "execution_count": null,
   "metadata": {},
   "outputs": [],
   "source": [
    "dim = 3\n",
    "\n",
    "nkl = n,k,l = 10,1,1\n",
    "\n",
    "D = Zernike.operator(dim,'D')\n",
    "R = Zernike.operator(dim,'R')\n",
    "E = Zernike.operator(dim,'E')\n",
    "\n",
    "\n",
    "z,w = Zernike.quadrature(dim,n,k)\n",
    "\n",
    "r = np.sqrt((1+z)/2)\n",
    "\n",
    "Q = lambda dn,dk,dl : Zernike.polynomials(dim,n+dn,k+dk,l+dl,z).T\n",
    "d = lambda Op: Op.codomain[:3]\n",
    "Right = lambda Op: Op(*nkl)\n",
    "Left  = np.diag\n",
    "\n",
    "err = lambda thing: print(np.max(np.abs(thing)))\n",
    "\n",
    "\n",
    "err(      Left(r) @ Q(0,0,0) -  Q( *d( R(-1) )) @ Right( R(-1) ) )\n",
    "err(      Left(r) @ Q(0,0,0) -  Q( *d( R(+1) )) @ Right( R(+1) ) )\n",
    "err(                Q(0,0,0) -  Q( *d( E(+1) )) @ Right( E(+1) ) )\n",
    "err( Left(1-r**2) @ Q(0,0,0) -  Q( *d( E(-1) )) @ Right( E(-1) ) )"
   ]
  },
  {
   "cell_type": "code",
   "execution_count": null,
   "metadata": {},
   "outputs": [],
   "source": [
    "nkl = n,k,ell = 10,0,3\n",
    "\n",
    "chop( ( E(-1) @ E(+1)  + R(-1) @ R(+1) )(n,k,l).A )\n",
    "\n",
    "chop(( R(-1) * D(+1) + 2*E(+1) )(n,k,ell).A)\n",
    "chop(( R(+1) * D(-1) + 2*E(+1) )(n,k,ell).A)\n",
    "\n",
    "chop(( D(-1) * D(+1) )(n,k,ell).A)\n",
    "\n",
    "chop(( R(-1) * R(+1) )(n,k,ell).A)\n",
    "\n",
    "chop(( R(+1) * D(+1) )(n,k,ell).A)\n",
    "\n",
    "chop(( R(-1) * D(-1) )(n,k,ell).A)"
   ]
  },
  {
   "cell_type": "code",
   "execution_count": null,
   "metadata": {},
   "outputs": [],
   "source": []
  },
  {
   "cell_type": "code",
   "execution_count": null,
   "metadata": {},
   "outputs": [],
   "source": []
  }
 ],
 "metadata": {
  "kernelspec": {
   "display_name": "Python 3",
   "language": "python",
   "name": "python3"
  }
 },
 "nbformat": 4,
 "nbformat_minor": 4
}

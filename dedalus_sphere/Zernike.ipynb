{
 "cells": [
  {
   "cell_type": "code",
   "execution_count": 1,
   "metadata": {},
   "outputs": [],
   "source": [
    "import zernike \n",
    "\n",
    "import numpy as np\n",
    "import matplotlib.pyplot as plt\n",
    "%matplotlib inline\n",
    "\n",
    "np.set_printoptions(precision=3,suppress=True)\n",
    "\n",
    "def chop(X,eps=1e-9):\n",
    "    M = np.copy(X)\n",
    "    w = np.where(np.abs(X) < eps)\n",
    "    M[w] = 0\n",
    "    print(M)\n",
    "    print()\n",
    "\n",
    "def good(X,nkl):\n",
    "    print(np.max(np.abs(X(*nkl).A)) < 1e-10)\n",
    "    print()    "
   ]
  },
  {
   "cell_type": "code",
   "execution_count": 16,
   "metadata": {},
   "outputs": [
    {
     "name": "stdout",
     "output_type": "stream",
     "text": [
      "0.3333333333333331\n"
     ]
    }
   ],
   "source": [
    "d,n,k = 3,15,0\n",
    "\n",
    "z,w = zernike.quadrature(d,n,k=k)\n",
    "\n",
    "print(np.sum(w))\n",
    "\n",
    "r = np.sqrt((1+z)/2)"
   ]
  },
  {
   "cell_type": "code",
   "execution_count": 17,
   "metadata": {},
   "outputs": [
    {
     "data": {
      "text/plain": [
       "[<matplotlib.lines.Line2D at 0x12140ea10>]"
      ]
     },
     "execution_count": 17,
     "metadata": {},
     "output_type": "execute_result"
    },
    {
     "data": {
      "image/png": "[encoded data removed]",
      "text/plain": [
       "<Figure size 432x288 with 1 Axes>"
      ]
     },
     "metadata": {
      "needs_background": "light"
     },
     "output_type": "display_data"
    }
   ],
   "source": [
    "ell = 5\n",
    "Q = zernike.polynomials(d,10,k,ell,z)\n",
    "\n",
    "plt.plot(r,Q[5])"
   ]
  },
  {
   "cell_type": "code",
   "execution_count": 19,
   "metadata": {},
   "outputs": [
    {
     "name": "stdout",
     "output_type": "stream",
     "text": [
      "[[1. 0. 0. 0. 0. 0. 0. 0. 0. 0.]\n",
      " [0. 1. 0. 0. 0. 0. 0. 0. 0. 0.]\n",
      " [0. 0. 1. 0. 0. 0. 0. 0. 0. 0.]\n",
      " [0. 0. 0. 1. 0. 0. 0. 0. 0. 0.]\n",
      " [0. 0. 0. 0. 1. 0. 0. 0. 0. 0.]\n",
      " [0. 0. 0. 0. 0. 1. 0. 0. 0. 0.]\n",
      " [0. 0. 0. 0. 0. 0. 1. 0. 0. 0.]\n",
      " [0. 0. 0. 0. 0. 0. 0. 1. 0. 0.]\n",
      " [0. 0. 0. 0. 0. 0. 0. 0. 1. 0.]\n",
      " [0. 0. 0. 0. 0. 0. 0. 0. 0. 1.]]\n",
      "\n"
     ]
    }
   ],
   "source": [
    "chop(Q @ np.diag(w) @ Q.T)"
   ]
  },
  {
   "cell_type": "code",
   "execution_count": 13,
   "metadata": {},
   "outputs": [
    {
     "name": "stdout",
     "output_type": "stream",
     "text": [
      "True\n",
      "True\n",
      "True\n",
      "True\n"
     ]
    }
   ],
   "source": [
    "dim = 3\n",
    "\n",
    "nkl = n,k,l = 10,1,1\n",
    "\n",
    "D = zernike.operator(dim,'D')\n",
    "R = zernike.operator(dim,'R')\n",
    "E = zernike.operator(dim,'E')\n",
    "\n",
    "\n",
    "z,w = zernike.quadrature(dim,n,k)\n",
    "\n",
    "r = np.sqrt((1+z)/2)\n",
    "\n",
    "Q = lambda dn,dk,dl : zernike.polynomials(dim,n+dn,k+dk,l+dl,z).T\n",
    "d = lambda Op: Op.codomain[:3]\n",
    "right = lambda Op: Op(*nkl)\n",
    "left  = np.diag\n",
    "\n",
    "err = lambda thing: print(np.max(np.abs(thing)) < 1e-10)\n",
    "\n",
    "\n",
    "err(      left(r) @ Q(0,0,0) -  Q( *d( R(-1) )) @ right( R(-1) ) )\n",
    "err(      left(r) @ Q(0,0,0) -  Q( *d( R(+1) )) @ right( R(+1) ) )\n",
    "err(                Q(0,0,0) -  Q( *d( E(+1) )) @ right( E(+1) ) )\n",
    "err( left(1-r**2) @ Q(0,0,0) -  Q( *d( E(-1) )) @ right( E(-1) ) )"
   ]
  },
  {
   "cell_type": "code",
   "execution_count": 6,
   "metadata": {},
   "outputs": [
    {
     "name": "stdout",
     "output_type": "stream",
     "text": [
      "[[1. 0. 0. 0. 0. 0. 0. 0. 0. 0.]\n",
      " [0. 1. 0. 0. 0. 0. 0. 0. 0. 0.]\n",
      " [0. 0. 1. 0. 0. 0. 0. 0. 0. 0.]\n",
      " [0. 0. 0. 1. 0. 0. 0. 0. 0. 0.]\n",
      " [0. 0. 0. 0. 1. 0. 0. 0. 0. 0.]\n",
      " [0. 0. 0. 0. 0. 1. 0. 0. 0. 0.]\n",
      " [0. 0. 0. 0. 0. 0. 1. 0. 0. 0.]\n",
      " [0. 0. 0. 0. 0. 0. 0. 1. 0. 0.]\n",
      " [0. 0. 0. 0. 0. 0. 0. 0. 1. 0.]\n",
      " [0. 0. 0. 0. 0. 0. 0. 0. 0. 1.]\n",
      " [0. 0. 0. 0. 0. 0. 0. 0. 0. 0.]]\n",
      "\n",
      "True\n",
      "\n",
      "True\n",
      "\n",
      "True\n",
      "\n",
      "True\n",
      "\n",
      "True\n",
      "\n",
      "True\n",
      "\n",
      "True\n",
      "\n",
      "True\n",
      "\n",
      "True\n",
      "\n"
     ]
    }
   ],
   "source": [
    "nkl = n,k,ell = 10,1,3\n",
    "\n",
    "chop( ( E(-1) @ E(+1)  + R(-1) @ R(+1) )(n,k,l).A )\n",
    "\n",
    "good( R(-1) * D(+1) + 2*E(+1) , nkl)\n",
    "good( R(+1) * D(-1) + 2*E(+1) , nkl)\n",
    "\n",
    "good( E(-1) * D(-1) - 2*R(-1) ,nkl)\n",
    "\n",
    "good( E(-1) * D(+1) - 2*R(+1) ,nkl)\n",
    "\n",
    "good( E(+1) * D(+1) ,nkl)\n",
    "\n",
    "good( D(-1) * D(+1) ,nkl)\n",
    "\n",
    "good( R(-1) * R(+1) ,nkl)\n",
    "\n",
    "good( R(+1) * D(+1) ,nkl)\n",
    "\n",
    "good( R(-1) * D(-1) ,nkl)"
   ]
  },
  {
   "cell_type": "code",
   "execution_count": null,
   "metadata": {},
   "outputs": [],
   "source": []
  }
 ],
 "metadata": {
  "kernelspec": {
   "display_name": "Python 3",
   "language": "python",
   "name": "python3"
  },
  "language_info": {
   "codemirror_mode": {
    "name": "ipython",
    "version": 3
   },
   "file_extension": ".py",
   "mimetype": "text/x-python",
   "name": "python",
   "nbconvert_exporter": "python",
   "pygments_lexer": "ipython3",
   "version": "3.7.7"
  }
 },
 "nbformat": 4,
 "nbformat_minor": 4
}

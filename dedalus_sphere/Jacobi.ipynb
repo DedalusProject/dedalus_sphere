{
 "cells": [
  {
   "cell_type": "code",
   "execution_count": null,
   "metadata": {},
   "outputs": [],
   "source": [
    "import numpy as np\n",
    "import matplotlib.pyplot as plt\n",
    "%matplotlib inline\n",
    "\n",
    "import jacobi as Jacobi"
   ]
  },
  {
   "cell_type": "code",
   "execution_count": null,
   "metadata": {},
   "outputs": [],
   "source": [
    "n,a,b = 100,0,0\n",
    "\n",
    "z,w = Jacobi.quadrature(n+1,a,b)\n",
    "\n",
    "P = Jacobi.polynomials(n+1,a,b,z)\n",
    "\n",
    "plt.plot(z,P[12])"
   ]
  },
  {
   "cell_type": "code",
   "execution_count": null,
   "metadata": {},
   "outputs": [],
   "source": [
    "A = Jacobi.operator('A')\n",
    "B = Jacobi.operator('B')\n",
    "C = Jacobi.operator('C')\n",
    "D = Jacobi.operator('D')\n",
    "Z = Jacobi.operator('Z')"
   ]
  },
  {
   "cell_type": "code",
   "execution_count": null,
   "metadata": {},
   "outputs": [],
   "source": [
    "nab = (5,4,3/2)\n",
    "\n",
    "def norm(X,eps=1e-10): \n",
    "    print(np.max(np.abs(X(*nab))) < eps)\n",
    "\n",
    "# X * Y = X @ Y - Y @ X\n",
    "M = D(+1) * D(-1)\n",
    "S = C(+1) * C(-1)\n",
    "\n",
    "norm( M * S )\n",
    "\n",
    "\n",
    "for p in (-1,1):\n",
    "    \n",
    "    norm( C(p) * Z - p * A(p) @ B(-p) )\n",
    "    norm( D(p) * Z - p * A(p) @ B(p) )\n",
    "    \n",
    "    norm( M * D(p) - 2*p*D(p) )\n",
    "    norm( M * C(p)            )\n",
    "    norm( M * A(p) -   p*A(p) )\n",
    "    norm( M * B(p) -   p*B(p) )\n",
    "    \n",
    "    norm( S * D(p)            )\n",
    "    norm( S * C(p) - 2*p*C(p) )\n",
    "    norm( S * A(p) -   p*A(p) )\n",
    "    norm( S * B(p) +   p*B(p) )\n",
    "    \n",
    "    norm( D(p) * C(+p) )\n",
    "    norm( D(p) * C(-p) )\n",
    "    \n",
    "    norm( A(p) * D(+p)           )\n",
    "    norm( A(p) * D(-p) + p*B(-p) )\n",
    "    norm( A(p) * C(+p)           )\n",
    "    norm( A(p) * C(-p) + p*B(+p) )\n",
    "    \n",
    "    norm( B(p) * D(+p)           )\n",
    "    norm( B(p) * D(-p) - p*A(-p) )\n",
    "    norm( B(p) * C(+p) + p*A(+p) )\n",
    "    norm( B(p) * C(-p)           )\n",
    "    \n",
    "    norm( A(p) * B(+p) )\n",
    "    norm( A(p) * B(-p) )"
   ]
  },
  {
   "cell_type": "code",
   "execution_count": null,
   "metadata": {},
   "outputs": [],
   "source": []
  }
 ],
 "metadata": {
  "kernelspec": {
   "display_name": "Python 3",
   "language": "python",
   "name": "python3"
  },
  "language_info": {
   "codemirror_mode": {
    "name": "ipython",
    "version": 3
   },
   "file_extension": ".py",
   "mimetype": "text/x-python",
   "name": "python",
   "nbconvert_exporter": "python",
   "pygments_lexer": "ipython3",
   "version": "3.7.7"
  }
 },
 "nbformat": 4,
 "nbformat_minor": 4
}

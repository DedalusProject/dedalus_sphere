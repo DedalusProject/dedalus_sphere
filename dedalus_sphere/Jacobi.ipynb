{
 "cells": [
  {
   "cell_type": "code",
   "execution_count": null,
   "metadata": {},
   "outputs": [],
   "source": [
    "import numpy as np\n",
    "import matplotlib.pyplot as plt\n",
    "%matplotlib inline\n",
    "\n",
    "import dedalus_sphere.jacobi as Jacobi\n",
    "\n",
    "\n",
    "def chop(X,d=3,suppress=True,eps=1e-10):\n",
    "    M = np.copy(X)\n",
    "    w = np.where(np.abs(M) < eps)\n",
    "    M[w] = 0.0\n",
    "    np.set_printoptions(precision=d,suppress=suppress,linewidth=10**np.inf)\n",
    "    print(M)\n",
    "    print()"
   ]
  },
  {
   "cell_type": "markdown",
   "metadata": {},
   "source": [
    "$$\n",
    "\\text{P}^{(a,b)}(z) \\ = \\ \\left[ P_{0}^{(a,b)}(z), \\ldots,  P_{n}^{(a,b)}(z) , \\ldots\\right]\n",
    "$$\n",
    "\n",
    "<br>\n",
    "\n",
    "$$\n",
    "\\text{P}^{(a,b)}(-z) \\ = \\ \\text{P}^{(b,a)}(z)\\, \\Pi\n",
    "$$\n",
    "\n",
    "<br>\n",
    "\n",
    "\n",
    "$$\n",
    "1 \\, \\text{P}^{(a,b)}(z) \\ = \\ \\text{P}^{(a+1,b)}(z)\\, A_{a,b}^{+}, \\qquad (1-z) \\, \\text{P}^{(a,b)}(z) \\ = \\ \\text{P}^{(a-1,b)}(z)\\, A_{a,b}^{-}\n",
    "$$\n",
    "\n",
    "\n",
    "$$\n",
    "1 \\, \\text{P}^{(a-1,b)}(z) \\ = \\ \\text{P}^{(a,b)}(z)\\, A_{a-1,b}^{+}, \\qquad (1-z) \\, \\text{P}^{(a+1,b)}(z) \\ = \\ \\text{P}^{(a,b)}(z)\\, A_{a+1,b}^{-}\n",
    "$$\n",
    "\n",
    "\n",
    "\n",
    "<br>\n",
    "\n",
    "$$\n",
    "\\left[b + (1+z)\\frac{d}{dz} \\right] \\, \\text{P}^{(a,b)}(z) \\ = \\ \\text{P}^{(a+1,b-1)}(z)\\, C_{a,b}^{+}, \\qquad\n",
    "\\left[a - (1-z)\\frac{d}{dz} \\right] \\, \\text{P}^{(a,b)}(z) \\ = \\ \\text{P}^{(a-1,b+1)}(z)\\, C_{a,b}^{-}\n",
    "$$\n",
    "\n",
    "\n",
    "<br>\n",
    "\n",
    "$$\n",
    "\\frac{d}{dz} \\, \\text{P}^{(a,b)}(z) \\ = \\ \\text{P}^{(a+1,b+1)}(z)\\, {D}_{a,b}^{+},\\qquad\n",
    "\\left[ a(1+z) - b(1-z)   - (1-z^{2})\\frac{d}{dz}\\right] \\, \\text{P}^{(a,b)}(z) \\ = \\ \\text{P}^{(a-1,b-1)}(z)\\, {D}_{a,b}^{-}\n",
    "$$\n",
    "\n",
    "\n"
   ]
  },
  {
   "cell_type": "markdown",
   "metadata": {},
   "source": [
    "Get some operators"
   ]
  },
  {
   "cell_type": "code",
   "execution_count": null,
   "metadata": {},
   "outputs": [],
   "source": [
    "A  = Jacobi.operator('A')\n",
    "B  = Jacobi.operator('B')\n",
    "C  = Jacobi.operator('C')\n",
    "D  = Jacobi.operator('D')\n",
    "Z  = Jacobi.operator('Z')\n",
    "N  = Jacobi.operator('N')\n",
    "I  = Jacobi.operator('Id')\n",
    "Pi = Jacobi.operator('Pi')"
   ]
  },
  {
   "cell_type": "markdown",
   "metadata": {},
   "source": [
    "Check codomains"
   ]
  },
  {
   "cell_type": "code",
   "execution_count": null,
   "metadata": {},
   "outputs": [],
   "source": [
    "print(A(-1).codomain)\n",
    "print((A(-1)@Pi).codomain)\n",
    "print((Pi@A(-1)).codomain)\n",
    "print((Pi@A(-1)@Pi).codomain)"
   ]
  },
  {
   "cell_type": "markdown",
   "metadata": {},
   "source": [
    "Grid vs coefficient test."
   ]
  },
  {
   "cell_type": "code",
   "execution_count": null,
   "metadata": {},
   "outputs": [],
   "source": [
    "nab = n,a,b = 12,1,1/2\n",
    "\n",
    "z,w = Jacobi.quadrature(n,a,b)\n",
    "\n",
    "P = lambda dn,da,db : Jacobi.polynomials(n+dn,a+da,b+db,z).T\n",
    "d = lambda Op: Op.codomain[:3]\n",
    "R = lambda Op: Op(*nab)\n",
    "L = np.diag\n",
    "\n",
    "err = lambda thing: print(np.max(np.abs(thing)))\n",
    "\n",
    "err(          P(0,0,0) - P( *d( A(+1) )) @ R( A(+1) ) )\n",
    "err(          P(0,0,0) - P( *d( B(+1) )) @ R( B(+1) ) )\n",
    "err( L(1-z) @ P(0,0,0) - P( *d( A(-1) )) @ R( A(-1) ) )\n",
    "err( L(1+z) @ P(0,0,0) - P( *d( B(-1) )) @ R( B(-1) ) )\n",
    "\n",
    "\n",
    "err( Jacobi.polynomials(n,a,b,-z).T - Jacobi.polynomials(n,b,a,z).T @ R( Pi ) )"
   ]
  },
  {
   "cell_type": "code",
   "execution_count": null,
   "metadata": {},
   "outputs": [],
   "source": [
    "nab = n,a,b = 14,1,1/2\n",
    "\n",
    "z,w = Jacobi.quadrature(n,a,b)\n",
    "\n",
    "P = lambda nab,z : Jacobi.polynomials(*nab,z).T\n",
    "L = np.diag\n",
    "d = lambda Op,nab: Op.codomain(*nab)\n",
    "\n",
    "size = lambda thing: print(np.max(np.abs(thing)))\n",
    "\n",
    "size(          P(nab, z) - P( d(A(+1),nab), z) @ A(+1)(*nab) )\n",
    "size(          P(nab, z) - P( d(B(+1),nab), z) @ B(+1)(*nab) )\n",
    "size( L(1-z) @ P(nab, z) - P( d(A(-1),nab), z) @ A(-1)(*nab) )\n",
    "size( L(1+z) @ P(nab, z) - P( d(B(-1),nab), z) @ B(-1)(*nab) )\n",
    "size(          P(nab,-z) - P(    d(Pi,nab), z) @    Pi(*nab) )"
   ]
  },
  {
   "cell_type": "markdown",
   "metadata": {},
   "source": [
    "We can defie a simple function: "
   ]
  },
  {
   "cell_type": "code",
   "execution_count": null,
   "metadata": {},
   "outputs": [],
   "source": [
    "f = lambda z: 1 + z + 2*z**2 - z**3 - 2*z**4 - z**5\n",
    "plt.plot(z,f(z))"
   ]
  },
  {
   "cell_type": "markdown",
   "metadata": {},
   "source": [
    "The operator function does the right thing:"
   ]
  },
  {
   "cell_type": "code",
   "execution_count": null,
   "metadata": {},
   "outputs": [],
   "source": [
    "F = f(Z)\n",
    "\n",
    "size( L( f(z) ) @ P(nab,z) - P( d(F,nab), z) @ F(*nab) )"
   ]
  },
  {
   "cell_type": "markdown",
   "metadata": {},
   "source": [
    "The actual operator:"
   ]
  },
  {
   "cell_type": "code",
   "execution_count": null,
   "metadata": {},
   "outputs": [],
   "source": [
    "chop(F(*nab).todense(),d=3)\n",
    "F(*nab)"
   ]
  },
  {
   "cell_type": "markdown",
   "metadata": {},
   "source": [
    "But we can't compute the full matrix-valued function on the grid without some aliasing."
   ]
  },
  {
   "cell_type": "code",
   "execution_count": null,
   "metadata": {},
   "outputs": [],
   "source": [
    "chop( abs(P( d(F,nab), z).T @ L( w*f(z) ) @ P(nab,z) -  F(*nab) ))"
   ]
  },
  {
   "cell_type": "markdown",
   "metadata": {},
   "source": [
    "Operator algebra tests"
   ]
  },
  {
   "cell_type": "code",
   "execution_count": null,
   "metadata": {},
   "outputs": [],
   "source": [
    "nab = n,a,b = (400,2,2)\n",
    "\n",
    "def norm(X,eps=1e-8): \n",
    "    print(np.max(np.abs(X(*nab))) < 1e-9)\n",
    "\n",
    "# I've hijacked the * for the Lie bracket.\n",
    "# X * Y = X @ Y - Y @ X\n",
    "M = D(+1) * D(-1)\n",
    "S = C(+1) * C(-1)\n",
    "\n",
    "M = A(0) + B(0)\n",
    "S = A(0) - B(0)\n",
    "\n",
    "norm(M * S)\n",
    "\n",
    "for p in (-1,1):\n",
    "    \n",
    "    norm( Pi @ C(p) @ Pi - C(-p) )\n",
    "    norm( Pi @ D(p) @ Pi + D(+p) )\n",
    "    norm( Pi @ A(p) @ Pi - B(+p) )\n",
    "    norm( Pi @ B(p) @ Pi - A(+p) )\n",
    "    \n",
    "    norm( Z * C(p)  + p * A(p) @ B(-p) )\n",
    "    norm( Z * D(p)  + p * A(p) @ B(+p) )\n",
    "    \n",
    "    norm( M * D(p) - 2*p*D(p) )\n",
    "    norm( M * C(p)            )\n",
    "    norm( M * A(p) -   p*A(p) )\n",
    "    norm( M * B(p) -   p*B(p) )\n",
    "    \n",
    "    norm( S * D(p)            )\n",
    "    norm( S * C(p) - 2*p*C(p) )\n",
    "    norm( S * A(p) -   p*A(p) )\n",
    "    norm( S * B(p) +   p*B(p) )\n",
    "    \n",
    "    norm( D(p) * C(+p) )\n",
    "    norm( D(p) * C(-p) )\n",
    "    \n",
    "    norm( A(p) * D(+p)           )\n",
    "    norm( A(p) * D(-p) + p*B(-p) )\n",
    "    norm( A(p) * C(+p)           )\n",
    "    norm( A(p) * C(-p) + p*B(+p) )\n",
    "    \n",
    "    norm( B(p) * D(+p)           )\n",
    "    norm( B(p) * D(-p) - p*A(-p) )\n",
    "    norm( B(p) * C(+p) + p*A(+p) )\n",
    "    norm( B(p) * C(-p)           )\n",
    "    \n",
    "    norm( A(p) * B(+p) )\n",
    "    norm( A(p) * B(-p) )"
   ]
  },
  {
   "cell_type": "markdown",
   "metadata": {},
   "source": [
    "Extendable sum test"
   ]
  },
  {
   "cell_type": "code",
   "execution_count": null,
   "metadata": {},
   "outputs": [],
   "source": [
    "DD = D(+1) @ D(-1)\n",
    "L = DD + Z\n",
    "\n",
    "\n",
    "print(Z.codomain)\n",
    "print(DD.codomain)\n",
    "\n",
    "print(L.codomain)"
   ]
  },
  {
   "cell_type": "code",
   "execution_count": null,
   "metadata": {},
   "outputs": [],
   "source": []
  }
 ],
 "metadata": {
  "kernelspec": {
   "display_name": "Python 3",
   "language": "python",
   "name": "python3"
  },
  "language_info": {
   "codemirror_mode": {
    "name": "ipython",
    "version": 3
   },
   "file_extension": ".py",
   "mimetype": "text/x-python",
   "name": "python",
   "nbconvert_exporter": "python",
   "pygments_lexer": "ipython3",
   "version": "3.8.2"
  }
 },
 "nbformat": 4,
 "nbformat_minor": 4
}

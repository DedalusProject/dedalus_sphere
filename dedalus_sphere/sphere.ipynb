{
 "cells": [
  {
   "cell_type": "code",
   "execution_count": 1,
   "metadata": {},
   "outputs": [],
   "source": [
    "import numpy as np\n",
    "import sphere as spherical\n",
    "import matplotlib.pyplot as plt\n",
    "%matplotlib inline\n",
    "\n",
    "np.set_printoptions(precision=4,suppress=True,linewidth=120)\n",
    "\n",
    "def chop(X):\n",
    "    w = np.where(np.abs(X)<1e-9)\n",
    "    X[w] = 0\n",
    "    print(X)\n",
    "    print()"
   ]
  },
  {
   "cell_type": "code",
   "execution_count": 2,
   "metadata": {},
   "outputs": [
    {
     "data": {
      "text/plain": [
       "[<matplotlib.lines.Line2D at 0x11fc5a9d0>]"
      ]
     },
     "execution_count": 2,
     "metadata": {},
     "output_type": "execute_result"
    },
    {
     "data": {
      "image/png": "[encoded data removed]",
      "text/plain": [
       "<Figure size 432x288 with 1 Axes>"
      ]
     },
     "metadata": {
      "needs_background": "light"
     },
     "output_type": "display_data"
    }
   ],
   "source": [
    "Lmax = 10\n",
    "z,w = spherical.quadrature(Lmax,dtype='float128')\n",
    "\n",
    "theta = np.arccos(z)\n",
    "\n",
    "plt.plot(theta,w/np.max(w))\n",
    "plt.plot(theta,np.sin(theta))"
   ]
  },
  {
   "cell_type": "code",
   "execution_count": null,
   "metadata": {},
   "outputs": [],
   "source": [
    "Y = spherical.harmonics(Lmax,0,0,z)\n",
    "\n",
    "chop(Y*w @ Y.T)\n",
    "chop(Y.T @ Y*w)"
   ]
  },
  {
   "cell_type": "code",
   "execution_count": null,
   "metadata": {},
   "outputs": [],
   "source": [
    "Lms = L,m,s = 10,3,2\n",
    "\n",
    "Sin = spherical.operator('Sin')\n",
    "Cos = spherical.operator('Cos')\n",
    "\n",
    "chop(( Cos**2 + Sin(+1) @ Sin(-1) )(*Lms).square.A)"
   ]
  },
  {
   "cell_type": "code",
   "execution_count": null,
   "metadata": {},
   "outputs": [],
   "source": [
    "D = spherical.operator('D')\n",
    "S = spherical.operator('S')\n",
    "L = spherical.operator('L')\n",
    "\n",
    "chop(( D(-1)@D(+1) +  D(+1)@D(-1) + L@(L+1) - S**2 )(*Lms).A)\n",
    "\n",
    "chop((D(-1) * D(+1) - S)(*Lms).A)"
   ]
  },
  {
   "cell_type": "code",
   "execution_count": null,
   "metadata": {},
   "outputs": [],
   "source": [
    "chop((Sin(+1) * D(+1))(*Lms).A)\n",
    "chop((Sin(-1) * D(-1))(*Lms).A)"
   ]
  },
  {
   "cell_type": "code",
   "execution_count": null,
   "metadata": {},
   "outputs": [],
   "source": [
    "chop(( D(+1) * Sin(-1)  - 2**(1/2) * Cos )(*Lms).A)\n",
    "chop(( D(-1) * Sin(+1)  - 2**(1/2) * Cos )(*Lms).A)"
   ]
  },
  {
   "cell_type": "code",
   "execution_count": null,
   "metadata": {},
   "outputs": [],
   "source": []
  },
  {
   "cell_type": "code",
   "execution_count": null,
   "metadata": {},
   "outputs": [],
   "source": [
    "Pi = spherical.operator('Pi')"
   ]
  },
  {
   "cell_type": "code",
   "execution_count": null,
   "metadata": {},
   "outputs": [],
   "source": [
    "Pi.codomain"
   ]
  },
  {
   "cell_type": "code",
   "execution_count": null,
   "metadata": {},
   "outputs": [],
   "source": []
  }
 ],
 "metadata": {
  "kernelspec": {
   "display_name": "Python 3",
   "language": "python",
   "name": "python3"
  },
  "language_info": {
   "codemirror_mode": {
    "name": "ipython",
    "version": 3
   },
   "file_extension": ".py",
   "mimetype": "text/x-python",
   "name": "python",
   "nbconvert_exporter": "python",
   "pygments_lexer": "ipython3",
   "version": "3.7.7"
  }
 },
 "nbformat": 4,
 "nbformat_minor": 4
}
